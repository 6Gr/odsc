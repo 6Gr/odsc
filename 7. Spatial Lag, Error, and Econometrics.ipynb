{
 "cells": [
  {
   "cell_type": "markdown",
   "metadata": {
    "deletable": true,
    "editable": true
   },
   "source": [
    "# 7. Spatial Lag, Error, and Econometrics\n",
    "## 7.1 Spatial Regression\n",
    "#### 7.1.1 Spatial Heterogeneity\n",
    "We've already defined what spatial autocorrelation is and how to detect it in spatial data. Let's take a closer look at the data generating processes that might be creating spatial autocorrelation or adding spatial structure to a dataset. Spatial hetrogeneity, also known as a 1st order spatial process, is a spatial process that:\n",
    "* Regional or large-scale process over the entire study\n",
    "* Variance/covariance structure drifts over an area\n",
    "* Violates assumption of spatial stationarity\n",
    "\n",
    "Spatial econometric approaches attempt to model the spatial heterogeneity in data. An approach purely based on a spatial heterogenous process assumes there is no spatial interaction in the data. We also call these reactive data generating processes because the target variable is reacting to an underlying trend surface or regional generator."
   ]
  },
  {
   "cell_type": "markdown",
   "metadata": {
    "deletable": true,
    "editable": true
   },
   "source": [
    "#### 7.1.2 Spatial Dependence\n",
    "\n",
    "Spatial dependence, also known as a 2nd order spatial process, is a more local process that suggests a functional relationship between neighboring observations. Spatial dependence is:\n",
    "* Small-scale, localized, and short-distance\n",
    "* Spatial interaction or contagion present in our data generating clusters\n",
    "* Follows a property known as ergodicity which allows interaction over a certain area"
   ]
  },
  {
   "cell_type": "markdown",
   "metadata": {
    "deletable": true,
    "editable": true
   },
   "source": [
    "#### 7.1.3 Spatial Modeling\n",
    "So what's the issue with this? 1st and 2nd order spatial effects can woefully misspecify models and inflate accuracy metrics. How should we treat the spatial structure in our data?\n",
    "\n",
    "* Assumption of a 1st Order generative process\n",
    "    * Spatial autocorrelation is a nuisance\n",
    "    * Target variable responding to some other variables\n",
    "    * Regression structure focused on spatial heterogeneity\n",
    "* Assumption of a 2nd Order generative process\n",
    "    * Spatial autocorrelation is substantive\n",
    "    * Focus on spatial interaction\n",
    "    * Must consider spatially-influenced covariance strucutre\n",
    "* Assumption of both processes\n",
    "    * Spatial Error Model\n",
    "        * Spatial regression\n",
    "        * Spatial heterogenity in design matrix\n",
    "        * Spatial interaction in the residuals\n",
    "    * Spatial Lag Model\n",
    "        * Spatial regression\n",
    "        * Spatial heterogeneity in design matrix\n",
    "        * Explicit control of interaction in the target variable"
   ]
  },
  {
   "cell_type": "markdown",
   "metadata": {
    "deletable": true,
    "editable": true
   },
   "source": [
    "## 7.2 Spatial Lag Model"
   ]
  },
  {
   "cell_type": "markdown",
   "metadata": {
    "deletable": true,
    "editable": true
   },
   "source": [
    "#### 7.2.1 Model\n",
    "Spatial lag model accounts for 1st order spatial effects by including a weights matrix in the model. It deals with spatial dependence (2nd order effects) by controlling for spatial effects in the target using a spatial lag variable based on the neighbors."
   ]
  },
  {
   "cell_type": "code",
   "execution_count": 3,
   "metadata": {
    "collapsed": false,
    "deletable": true,
    "editable": true
   },
   "outputs": [],
   "source": [
    "# Create dependent, independent, and W\n",
    "import pysal\n",
    "import numpy as np\n",
    "cenacs = pysal.open('./data/census/stpete_cenacs_2015_norms.dbf')\n",
    "w = pysal.queen_from_shapefile(\"./data/census/stpete_cenacs_2015.shp\")\n",
    "w.transform = 'r'\n",
    "y = np.array(cenacs.by_col('MEDHHINC')).T\n",
    "y.shape = (len(y),1)\n",
    "# x = np.array(stp_cenacs[:,:-5])\n",
    "x_names = [\"ACRES\",\"AVE_HH_SZ\",\"AVE_FAM_SZ\",\"MED_AGE\",\"PCT_BACHLR\",\"PCT_POV\"]\n",
    "x = np.array([cenacs.by_col(var) for var in x_names]).T"
   ]
  },
  {
   "cell_type": "code",
   "execution_count": 4,
   "metadata": {
    "collapsed": false,
    "deletable": true,
    "editable": true
   },
   "outputs": [
    {
     "name": "stderr",
     "output_type": "stream",
     "text": [
      "/home/tankofvines/anaconda3/lib/python3.5/site-packages/scipy/optimize/_minimize.py:599: RuntimeWarning: Method 'bounded' does not support relative tolerance in x; defaulting to absolute tolerance.\n",
      "  \"defaulting to absolute tolerance.\", RuntimeWarning)\n"
     ]
    },
    {
     "data": {
      "text/plain": [
       "array([[ -5.31717180e+03],\n",
       "       [  5.93000000e-01],\n",
       "       [  2.54355183e+04],\n",
       "       [ -9.12430620e+03],\n",
       "       [  1.96084600e+02],\n",
       "       [  1.30371200e+03],\n",
       "       [ -5.19641100e+02],\n",
       "       [  1.17800000e-01]])"
      ]
     },
     "execution_count": 4,
     "metadata": {},
     "output_type": "execute_result"
    }
   ],
   "source": [
    "mllag = pysal.spreg.ML_Lag(y,x,w)\n",
    "np.around(mllag.betas, decimals=4) "
   ]
  },
  {
   "cell_type": "markdown",
   "metadata": {
    "deletable": true,
    "editable": true
   },
   "source": [
    "#### 7.2.2 Parameters and Metrics"
   ]
  },
  {
   "cell_type": "code",
   "execution_count": 5,
   "metadata": {
    "collapsed": false,
    "deletable": true,
    "editable": true
   },
   "outputs": [
    {
     "name": "stdout",
     "output_type": "stream",
     "text": [
      "0.117842\n",
      "47938.861472\n",
      "22207.844075\n",
      "[[ -4301.81197912]\n",
      " [ 14678.43397314]\n",
      " [  3618.21349559]\n",
      " [-11462.84050509]\n",
      " [ -5423.53963312]\n",
      " [ 11568.11608347]\n",
      " [  6544.73081644]\n",
      " [ -9122.97953753]\n",
      " [  8432.42089805]\n",
      " [  6959.25863889]\n",
      " [  3472.46945912]\n",
      " [-28092.82227327]\n",
      " [-13435.00299399]\n",
      " [ -4888.66970326]\n",
      " [  3961.77281397]\n",
      " [ -7161.59900988]\n",
      " [ 14753.16926436]\n",
      " [  4129.83476306]\n",
      " [ -4436.37536924]\n",
      " [ -8304.68272598]\n",
      " [  6394.51099317]\n",
      " [-23447.19567434]\n",
      " [   425.48537831]\n",
      " [  2940.72194991]\n",
      " [ -3048.79525504]\n",
      " [ -7332.96843078]\n",
      " [ 13657.44405378]\n",
      " [  4512.62059464]\n",
      " [ 10045.03699489]\n",
      " [ -1543.88026456]\n",
      " [ -4248.09471609]\n",
      " [  7344.33514711]\n",
      " [  2646.92703628]\n",
      " [ -7722.08054499]\n",
      " [  4610.18466795]\n",
      " [  3298.84304641]\n",
      " [  5483.42635913]\n",
      " [ 20790.95250035]\n",
      " [ 17338.20509298]\n",
      " [ -8718.60819984]\n",
      " [  -497.55995981]\n",
      " [-11371.43793248]\n",
      " [  3582.37421272]\n",
      " [  8726.89648732]\n",
      " [  -791.84472357]\n",
      " [  2076.16535437]\n",
      " [ -5163.38880577]\n",
      " [ -7464.96370153]\n",
      " [ 10646.82908111]\n",
      " [  4258.87092252]\n",
      " [  9155.90062153]\n",
      " [  2961.49792934]\n",
      " [ -1895.20263956]\n",
      " [ 26823.89185866]\n",
      " [  8148.81336301]\n",
      " [ -3108.59037747]\n",
      " [ -7086.45691583]\n",
      " [-19366.10545838]\n",
      " [   856.72154859]\n",
      " [  8172.95580462]\n",
      " [ 30739.09304294]\n",
      " [  1329.60522582]\n",
      " [ -5827.95345839]\n",
      " [ -5252.78960058]\n",
      " [-19773.28518145]\n",
      " [  3402.6740741 ]\n",
      " [ -1582.24549049]\n",
      " [  5225.66784914]\n",
      " [ -3420.82824785]\n",
      " [-13590.15247926]\n",
      " [  9022.71359677]\n",
      " [  9600.52870567]\n",
      " [ -5257.55280115]\n",
      " [ -9770.47229161]\n",
      " [  2624.71858298]\n",
      " [ -1645.5323871 ]\n",
      " [ -1660.47098236]\n",
      " [-11073.41806081]\n",
      " [-16404.84818173]\n",
      " [ -7097.05418682]\n",
      " [  2323.70705014]\n",
      " [-11925.05146066]\n",
      " [ 12217.87617137]\n",
      " [ -8173.78985525]\n",
      " [-12075.09072681]\n",
      " [ -1745.67842955]\n",
      " [-15881.67280095]\n",
      " [ 16635.90606435]\n",
      " [  2115.52274544]\n",
      " [  7764.74280586]\n",
      " [ -6645.5612897 ]\n",
      " [ -7172.44532272]\n",
      " [-11092.48462198]\n",
      " [  5099.27947927]\n",
      " [-21600.94923224]\n",
      " [ -3014.28013782]\n",
      " [  8491.27344127]\n",
      " [ -3836.1307524 ]\n",
      " [ -3219.69821588]\n",
      " [ -8410.3628958 ]\n",
      " [  4717.04780045]\n",
      " [   321.73875241]\n",
      " [ -6792.97512002]\n",
      " [  -958.29800861]\n",
      " [-16130.99099459]\n",
      " [  8060.35915061]\n",
      " [ 17021.86485052]\n",
      " [ 20024.83092338]\n",
      " [-12956.09527389]\n",
      " [   620.24892894]\n",
      " [  4354.34320905]\n",
      " [  -454.98967144]\n",
      " [ -1301.33009209]\n",
      " [ 14434.27424873]\n",
      " [ -9624.33435103]\n",
      " [ 15330.73598451]\n",
      " [ -8723.78855167]\n",
      " [ -5885.36451587]\n",
      " [ 14357.80680889]\n",
      " [ 14271.67550296]\n",
      " [-11751.72678748]\n",
      " [  4824.43596869]\n",
      " [-22535.55845454]\n",
      " [ -4986.99081018]\n",
      " [  4694.7525474 ]\n",
      " [ 14180.41105911]\n",
      " [  4567.98181839]\n",
      " [-10120.13092293]\n",
      " [-15914.59348799]\n",
      " [ -1486.40529688]\n",
      " [  9807.91170823]\n",
      " [   939.61475666]\n",
      " [  4644.24543385]\n",
      " [-11221.01494529]\n",
      " [  4596.37968131]\n",
      " [ -1334.63148136]\n",
      " [ 14187.09170793]\n",
      " [ 11184.29672262]\n",
      " [-13377.46973561]\n",
      " [  5141.36667823]\n",
      " [   312.23088161]\n",
      " [ -3820.4630623 ]\n",
      " [  5580.64865829]\n",
      " [ -4194.00128543]\n",
      " [ -3330.43937218]\n",
      " [-13930.25087967]\n",
      " [ -7826.41699143]\n",
      " [ -9351.09667144]\n",
      " [ -9274.04288678]\n",
      " [ -3110.00796591]\n",
      " [-24141.7748023 ]\n",
      " [  8911.73426589]\n",
      " [ 20695.0395149 ]\n",
      " [  1277.84490816]\n",
      " [  2554.97350818]\n",
      " [ 31086.76542091]\n",
      " [ -5234.50014091]\n",
      " [-12821.16875905]\n",
      " [  1802.76014966]\n",
      " [ 27400.03355229]\n",
      " [ -4904.58104541]\n",
      " [ -9654.77781314]\n",
      " [ -4673.96008719]\n",
      " [ -2099.44562846]\n",
      " [  7114.46702252]\n",
      " [  6401.88736695]\n",
      " [ 34703.04083434]\n",
      " [  1291.0596792 ]\n",
      " [-35402.33992933]\n",
      " [   144.20739626]\n",
      " [   632.22136914]\n",
      " [-10315.88265897]\n",
      " [ 29719.44595407]\n",
      " [-21641.75795734]\n",
      " [  1257.6255022 ]\n",
      " [ -6640.54684115]\n",
      " [ -3083.48891819]\n",
      " [ -9917.28379116]\n",
      " [   960.13185698]\n",
      " [ -7646.81132562]\n",
      " [-14605.87369284]\n",
      " [ 21893.24348807]\n",
      " [-14817.28271422]\n",
      " [ -6251.75404154]\n",
      " [ -2736.9811619 ]\n",
      " [  5624.37902953]\n",
      " [ 13677.18553944]\n",
      " [ 15530.74581808]\n",
      " [  4902.55423325]\n",
      " [ 14644.93119703]\n",
      " [-12005.04839941]\n",
      " [ 13358.47884666]\n",
      " [ -7149.71084491]\n",
      " [-10522.99797138]\n",
      " [  9486.22498815]\n",
      " [  4961.03958337]\n",
      " [-11434.48942037]\n",
      " [  5644.00136026]\n",
      " [-14944.49846041]\n",
      " [  1867.05102943]\n",
      " [ -7561.4157608 ]\n",
      " [  1661.15645893]\n",
      " [-13040.04297349]\n",
      " [ 55053.29345576]\n",
      " [-17247.67165808]\n",
      " [ 40688.80496661]\n",
      " [  7915.88501152]\n",
      " [ -3541.65359303]\n",
      " [-18515.61012297]\n",
      " [ -5735.89225898]\n",
      " [-10059.94322318]\n",
      " [ 20234.6171442 ]\n",
      " [ -7851.13910008]\n",
      " [  6602.88370347]\n",
      " [-10669.81869341]\n",
      " [ 28879.38727841]\n",
      " [ -8608.45339362]\n",
      " [   854.09038573]\n",
      " [  1190.39522625]\n",
      " [ 12420.66615516]\n",
      " [  3510.2981703 ]\n",
      " [ 11110.51638809]\n",
      " [ -7628.63984363]\n",
      " [ -7919.88462904]\n",
      " [ -7721.11858353]\n",
      " [-11553.71674259]\n",
      " [ -7045.06732331]\n",
      " [-19864.99767145]\n",
      " [  1941.04313935]\n",
      " [   455.92366421]\n",
      " [ -2175.67549559]]\n",
      "0.7008835422134011\n",
      "0.7029900224596364\n"
     ]
    }
   ],
   "source": [
    "print(\"{0:.6f}\".format(mllag.rho))\n",
    "print(\"{0:.6f}\".format(mllag.mean_y))\n",
    "print(\"{0:.6f}\".format(mllag.std_y))\n",
    "print(mllag.e_pred)\n",
    "print(mllag.pr2)\n",
    "print(mllag.pr2_e)"
   ]
  },
  {
   "cell_type": "markdown",
   "metadata": {
    "deletable": true,
    "editable": true
   },
   "source": [
    "#### 7.2.3 Interpretation"
   ]
  },
  {
   "cell_type": "code",
   "execution_count": 6,
   "metadata": {
    "collapsed": false,
    "deletable": true,
    "editable": true
   },
   "outputs": [
    {
     "name": "stdout",
     "output_type": "stream",
     "text": [
      "146882484.461530\n",
      "-2500.038436\n",
      "5016.076871\n",
      "5043.616213\n",
      "0.700884\n",
      "0.7030\n",
      "33929853910.6135\n"
     ]
    }
   ],
   "source": [
    "print(\"{0:.6f}\".format(mllag.sig2))\n",
    "print(\"{0:.6f}\".format(mllag.logll))\n",
    "print(\"{0:.6f}\".format(mllag.aic))\n",
    "print(\"{0:.6f}\".format(mllag.schwarz))\n",
    "print(\"{0:.6f}\".format(mllag.pr2))\n",
    "print(\"{0:.4f}\".format(mllag.pr2_e))\n",
    "print(\"{0:.4f}\".format(mllag.utu))"
   ]
  },
  {
   "cell_type": "markdown",
   "metadata": {
    "deletable": true,
    "editable": true
   },
   "source": [
    "## 7.3 Spatial Error Model"
   ]
  },
  {
   "cell_type": "markdown",
   "metadata": {
    "deletable": true,
    "editable": true
   },
   "source": [
    "#### 7.3.1 Model"
   ]
  },
  {
   "cell_type": "markdown",
   "metadata": {
    "deletable": true,
    "editable": true
   },
   "source": [
    "#### 7.3.2 Parameters and Metrics"
   ]
  },
  {
   "cell_type": "markdown",
   "metadata": {
    "deletable": true,
    "editable": true
   },
   "source": [
    "#### 7.3.3 Interpretation"
   ]
  }
 ],
 "metadata": {
  "anaconda-cloud": {},
  "kernelspec": {
   "display_name": "Python 3",
   "language": "python",
   "name": "python3"
  },
  "language_info": {
   "codemirror_mode": {
    "name": "ipython",
    "version": 3
   },
   "file_extension": ".py",
   "mimetype": "text/x-python",
   "name": "python",
   "nbconvert_exporter": "python",
   "pygments_lexer": "ipython3",
   "version": "3.5.3"
  }
 },
 "nbformat": 4,
 "nbformat_minor": 2
}
