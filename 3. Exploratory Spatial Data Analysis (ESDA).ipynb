{
 "cells": [
  {
   "cell_type": "markdown",
   "metadata": {
    "deletable": true,
    "editable": true
   },
   "source": [
    "# 3. Exploratory Spatial Data Analysis (ESDA)\n",
    "## 3.1 Python Spatial Abstraction Library (PySAL)"
   ]
  },
  {
   "cell_type": "markdown",
   "metadata": {
    "deletable": true,
    "editable": true
   },
   "source": [
    "#### 3.1.1 Overview\n",
    "[PySAL](http://pysal.readthedocs.io/en/latest/) is a Python library that enables users to incorporate a number of spatial analytical methods into their applications including:\n",
    "* Creating spatial weights matrices\n",
    "* Assessing spatial autocorrelation\n",
    "* Spatial econometric modeling"
   ]
  },
  {
   "cell_type": "markdown",
   "metadata": {
    "deletable": true,
    "editable": true
   },
   "source": [
    "#### 3.1.2 Installation and Packaging\n",
    "\n",
    "`conda install pysal`\n",
    "\n",
    "`pip install -U pysal`"
   ]
  },
  {
   "cell_type": "markdown",
   "metadata": {
    "deletable": true,
    "editable": true
   },
   "source": [
    "#### 3.1.3 Basic Usage\n",
    "PySAL has its own geosptial I/O tools that can read and write many of the formats that GDAL/OGR can. It provides additional support for a number of spatials weights formats."
   ]
  },
  {
   "cell_type": "code",
   "execution_count": 14,
   "metadata": {
    "collapsed": false,
    "deletable": true,
    "editable": true
   },
   "outputs": [
    {
     "data": {
      "text/plain": [
       "231"
      ]
     },
     "execution_count": 14,
     "metadata": {},
     "output_type": "execute_result"
    }
   ],
   "source": [
    "# Read a shapefile\n",
    "import pysal\n",
    "# pysal.open.check()\n",
    "shp = pysal.open('./data/stpete_cenacs_2014.shp')\n",
    "len(shp)"
   ]
  },
  {
   "cell_type": "markdown",
   "metadata": {
    "deletable": true,
    "editable": true
   },
   "source": [
    "> *_Demonstrate opening a shapefile in GeoDa_*"
   ]
  },
  {
   "cell_type": "markdown",
   "metadata": {
    "deletable": true,
    "editable": true
   },
   "source": [
    "## 3.2 Spatial Weights Matrix\n",
    "#### 3.2.1 Introduction\n",
    "Spatial weights matrices form the basis for a number of spatial analytical calculations. They come in a variety of types including:\n",
    "* Contiguity-based weights\n",
    "* Distance-based weights\n",
    "* k-nearest neighbor weights\n",
    "* Distance band weights\n",
    "* Kernel weights\n",
    "\n",
    "For this workshop we will focus on contiguity-based weights that are typically used for polygon geospatial models and can be constructed using a variety of topological criteria:\n",
    "* Queen contiguity (share boundary and/or vertex)\n",
    "* Rook contiguity (share boundary)\n",
    "* Bishop contiguity (share vertex only)\n",
    "* Lagged contiguity\n",
    "\n",
    "<img src=\"./img/rook.png\" width=\"300\" height=\"300\"/></img>\n",
    "\n",
    "<img src=\"./img/queen.png\" width=\"300\" height=\"300\"/></img>"
   ]
  },
  {
   "cell_type": "markdown",
   "metadata": {
    "deletable": true,
    "editable": true
   },
   "source": [
    "#### 3.2.2 Creating the weights matrix (W)\n",
    "The easiest way to create a weights matrix in PySAL is to create it directly from the file. The weights have a number of properties that make it easy to characterize contiguity within the data including the number of neighbors at a certain location and the histogram of neighbors."
   ]
  },
  {
   "cell_type": "code",
   "execution_count": 15,
   "metadata": {
    "collapsed": false,
    "deletable": true,
    "editable": true
   },
   "outputs": [
    {
     "data": {
      "text/plain": [
       "[193, 203, 204, 206]"
      ]
     },
     "execution_count": 15,
     "metadata": {},
     "output_type": "execute_result"
    }
   ],
   "source": [
    "# Create a weights matrix with rook contiguity from a shapefile\n",
    "w = pysal.rook_from_shapefile(\"./data/stpete_cenacs_2014.shp\")\n",
    "w.weights[0]\n",
    "w.neighbors[5]"
   ]
  },
  {
   "cell_type": "code",
   "execution_count": 16,
   "metadata": {
    "collapsed": false,
    "deletable": true,
    "editable": true
   },
   "outputs": [
    {
     "data": {
      "text/plain": [
       "[(1, 1),\n",
       " (2, 2),\n",
       " (3, 10),\n",
       " (4, 20),\n",
       " (5, 48),\n",
       " (6, 57),\n",
       " (7, 58),\n",
       " (8, 21),\n",
       " (9, 8),\n",
       " (10, 2),\n",
       " (11, 2),\n",
       " (12, 0),\n",
       " (13, 0),\n",
       " (14, 1),\n",
       " (15, 0),\n",
       " (16, 0),\n",
       " (17, 1)]"
      ]
     },
     "execution_count": 16,
     "metadata": {},
     "output_type": "execute_result"
    }
   ],
   "source": [
    "# Create a weights matrix with queen contiguity from a shapefile\n",
    "w = pysal.queen_from_shapefile(\"./data/stpete_cenacs_2014.shp\")\n",
    "# w.weights[0]\n",
    "# w.neighbors[5]\n",
    "w.histogram"
   ]
  },
  {
   "cell_type": "code",
   "execution_count": 17,
   "metadata": {
    "collapsed": true,
    "deletable": true,
    "editable": true
   },
   "outputs": [],
   "source": [
    "# Export a W as a .gal file\n",
    "gal = pysal.open('stpete_cenacs_2014.gal','w')\n",
    "gal.write(w)\n",
    "gal.close()"
   ]
  },
  {
   "cell_type": "markdown",
   "metadata": {
    "deletable": true,
    "editable": true
   },
   "source": [
    "> Demonstrate creating a W matrix in GeoDa"
   ]
  },
  {
   "cell_type": "markdown",
   "metadata": {
    "deletable": true,
    "editable": true
   },
   "source": [
    "#### 3.2.3 Higher Order Contiguity and Spatial Lag\n",
    "\n",
    "Some use cases require the calcultion of higher order contiguity. For example, analysis of pollution from a smoke stack which avoids immediate neighborhoods, but may pollute neighborhoods further away as particulates settle. PySAL makes it easy to construct a higher order weights matrix from an existing one."
   ]
  },
  {
   "cell_type": "code",
   "execution_count": 18,
   "metadata": {
    "collapsed": false,
    "deletable": true,
    "editable": true
   },
   "outputs": [
    {
     "name": "stdout",
     "output_type": "stream",
     "text": [
      "Unsupported sparse argument.\n"
     ]
    },
    {
     "ename": "AttributeError",
     "evalue": "'NoneType' object has no attribute 'neighbors'",
     "output_type": "error",
     "traceback": [
      "\u001b[0;31m---------------------------------------------------------------------------\u001b[0m",
      "\u001b[0;31mAttributeError\u001b[0m                            Traceback (most recent call last)",
      "\u001b[0;32m<ipython-input-18-e60149f8a417>\u001b[0m in \u001b[0;36m<module>\u001b[0;34m()\u001b[0m\n\u001b[1;32m      1\u001b[0m \u001b[0;31m# Create a higher order weights matrix from an existing W\u001b[0m\u001b[0;34m\u001b[0m\u001b[0;34m\u001b[0m\u001b[0m\n\u001b[1;32m      2\u001b[0m \u001b[0mw2\u001b[0m \u001b[0;34m=\u001b[0m \u001b[0mpysal\u001b[0m\u001b[0;34m.\u001b[0m\u001b[0mhigher_order\u001b[0m\u001b[0;34m(\u001b[0m\u001b[0mw\u001b[0m\u001b[0;34m,\u001b[0m \u001b[0;36m2\u001b[0m\u001b[0;34m)\u001b[0m\u001b[0;34m\u001b[0m\u001b[0m\n\u001b[0;32m----> 3\u001b[0;31m \u001b[0mw2\u001b[0m\u001b[0;34m.\u001b[0m\u001b[0mneighbors\u001b[0m\u001b[0;34m[\u001b[0m\u001b[0;36m0\u001b[0m\u001b[0;34m]\u001b[0m\u001b[0;34m\u001b[0m\u001b[0m\n\u001b[0m\u001b[1;32m      4\u001b[0m \u001b[0mw2\u001b[0m\u001b[0;34m\u001b[0m\u001b[0m\n",
      "\u001b[0;31mAttributeError\u001b[0m: 'NoneType' object has no attribute 'neighbors'"
     ]
    }
   ],
   "source": [
    "# Create a higher order weights matrix from an existing W\n",
    "w2 = pysal.higher_order(w, 2)\n",
    "w2.neighbors[0]\n",
    "w2"
   ]
  },
  {
   "cell_type": "markdown",
   "metadata": {
    "deletable": true,
    "editable": true
   },
   "source": [
    "Spatial lag is a new variable created based on an absolute or weighted average (row standarized W) "
   ]
  },
  {
   "cell_type": "code",
   "execution_count": 19,
   "metadata": {
    "collapsed": false,
    "deletable": true,
    "editable": true
   },
   "outputs": [
    {
     "data": {
      "text/plain": [
       "array([  146763.,   166211.,   199561.,   306442.,   183476.,   352686.,\n",
       "         616358.,   268633.,   392636.,   408417.,   160558.,   144656.,\n",
       "         208949.,   256077.,   167465.,   350218.,   311834.,    97201.,\n",
       "         273457.,   414432.,   112661.,   277598.,   201191.,   184138.,\n",
       "         358053.,   166831.,   302095.,   346152.,   278698.,   289837.,\n",
       "         334073.,   266484.,   241389.,   301873.,   185733.,   381341.,\n",
       "         345456.,   495665.,   400397.,   125559.,   384452.,   261814.,\n",
       "         291231.,   486758.,   291739.,   267592.,   133707.,   149572.,\n",
       "          78086.,   272613.,   542617.,   579796.,   210776.,   244382.,\n",
       "         168796.,   299722.,   348216.,   245197.,   325827.,   438478.,\n",
       "         305547.,   183825.,   289119.,    81900.,   386661.,   444013.,\n",
       "         269717.,   301594.,   322806.,   595313.,   299177.,   292400.,\n",
       "         269888.,   502653.,   321707.,   146173.,   204626.,   192741.,\n",
       "        1214896.,   242027.,   471751.,   166973.,   209781.,   231904.,\n",
       "         180669.,   236322.,   176717.,   240090.,   196775.,   211458.,\n",
       "         127313.,   133811.,   163053.,   179141.,   358341.,   170784.,\n",
       "         283201.,   393229.,   318325.,   367050.,   357680.,   270493.,\n",
       "         205309.,   372560.,   371048.,   171599.,   242238.,   310763.,\n",
       "         233614.,   364785.,   418712.,   209411.,   453204.,   463367.,\n",
       "         195883.,   359840.,   172192.,   256647.,   233547.,   312178.,\n",
       "         269689.,   183445.,   182709.,   220073.,   342576.,   124702.,\n",
       "         153921.,   192655.,   133596.,   395125.,   138260.,   272120.,\n",
       "         398704.,   260953.,   416847.,   241644.,   208186.,   333286.,\n",
       "         387240.,   256586.,   445831.,   425701.,   357160.,   197894.,\n",
       "         418480.,    92242.,   163440.,   157535.,   169650.,   239533.,\n",
       "         199204.,   291913.,   410405.,   178608.,   307863.,   551859.,\n",
       "         272503.,   442918.,   325881.,   283561.,   315927.,   340370.,\n",
       "         324913.,   403353.,   282916.,   160998.,   463449.,   339621.,\n",
       "         404002.,   305872.,   169822.,   198123.,   446587.,   177654.,\n",
       "         443007.,   289615.,   266741.,   316253.,   262419.,   242257.,\n",
       "         350903.,   425992.,   294005.,   277005.,   352981.,   227041.,\n",
       "         253211.,   260564.,   160400.,   248340.,   220528.,   382094.,\n",
       "         334021.,   435811.,   289915.,   227625.,   281977.,   250436.,\n",
       "         303332.,   306274.,   207301.,   193781.,   449003.,   484844.,\n",
       "         283040.,   225386.,   513467.,   388664.,   422904.,   372738.,\n",
       "         424271.,   391503.,   483797.,   335629.,   251644.,   344532.,\n",
       "         237519.,   241488.,   338280.,   218886.,   224580.,   314255.,\n",
       "          51141.,   420819.,   181739.,   314962.,   216707.,   229561.,\n",
       "         200230.,   143908.,   204412.])"
      ]
     },
     "execution_count": 19,
     "metadata": {},
     "output_type": "execute_result"
    }
   ],
   "source": [
    "# Calculate the spatial lag for Median household income\n",
    "import numpy as np\n",
    "f = pysal.open(\"./data/stpete_cenacs_2014.dbf\")\n",
    "f.header\n",
    "y = np.array(f.by_col['MEDHHINC'])\n",
    "yl = pysal.lag_spatial(w,y)\n",
    "yl"
   ]
  },
  {
   "cell_type": "code",
   "execution_count": 9,
   "metadata": {
    "collapsed": false,
    "deletable": true,
    "editable": true
   },
   "outputs": [
    {
     "data": {
      "text/plain": [
       "array([ 20966.14285714,  27701.83333333,  49890.25      ,  61288.4       ,\n",
       "        30579.33333333,  70537.2       ,  77044.75      ,  53726.6       ,\n",
       "        65439.33333333,  58345.28571429,  32111.6       ,  28931.2       ,\n",
       "        29849.85714286,  42679.5       ,  41866.25      ,  50031.14285714,\n",
       "        44547.71428571,  24300.25      ,  45576.16666667,  46048.        ,\n",
       "        22532.2       ,  46266.33333333,  40238.2       ,  26305.42857143,\n",
       "        51150.42857143,  41707.75      ,  50349.16666667,  49450.28571429,\n",
       "        34837.25      ,  41405.28571429,  47724.71428571,  44414.        ,\n",
       "        40231.5       ,  50312.16666667,  37146.6       ,  42371.22222222,\n",
       "        49350.85714286,  70809.28571429,  66732.83333333,  41853.        ,\n",
       "        48056.5       ,  43635.66666667,  58246.2       ,  54084.22222222,\n",
       "        58347.8       ,  53518.4       ,  26741.4       ,  21367.42857143,\n",
       "        26028.66666667,  38944.71428571,  77516.71428571,  96632.66666667,\n",
       "        42155.2       ,  48876.4       ,  33759.2       ,  42817.42857143,\n",
       "        49745.14285714,  49039.4       ,  46546.71428571,  54809.75      ,\n",
       "        50924.5       ,  36765.        ,  48186.5       ,  27300.        ,\n",
       "        42962.33333333,  63430.42857143,  44952.83333333,  37699.25      ,\n",
       "        40350.75      ,  42522.35714286,  42739.57142857,  41771.42857143,\n",
       "        44981.33333333,  45695.72727273,  45958.14285714,  36543.25      ,\n",
       "        29232.28571429,  27534.42857143,  71464.47058824,  24202.7       ,\n",
       "        78625.16666667,  33394.6       ,  29968.71428571,  46380.8       ,\n",
       "        30111.5       ,  39387.        ,  29452.83333333,  48018.        ,\n",
       "        28110.71428571,  52864.5       ,  21218.83333333,  26762.2       ,\n",
       "        54351.        ,  35828.2       ,  44792.625     ,  34156.8       ,\n",
       "        40457.28571429,  56175.57142857,  53054.16666667,  52435.71428571,\n",
       "        51097.14285714,  45082.16666667,  34218.16666667,  53222.85714286,\n",
       "        46381.        ,  34319.8       ,  40373.        ,  77690.75      ,\n",
       "        25957.11111111,  52112.14285714,  52339.        ,  52352.75      ,\n",
       "        64743.42857143,  57920.875     ,  27983.28571429,  32712.72727273,\n",
       "        28698.66666667,  51329.4       ,  38924.5       ,  39022.25      ,\n",
       "        44948.16666667,  45861.25      ,  36541.8       ,  27509.125     ,\n",
       "        34257.6       ,  31175.5       ,  76960.5       ,  48163.75      ,\n",
       "        44532.        ,  56446.42857143,  46086.66666667,  45353.33333333,\n",
       "        56957.71428571,  52190.6       ,  59549.57142857,  60411.        ,\n",
       "        34697.66666667,  47612.28571429,  55320.        ,  51317.2       ,\n",
       "        55728.875     ,  53212.625     ,  51022.85714286,  39578.8       ,\n",
       "        46497.77777778,  23060.5       ,  27240.        ,  26255.83333333,\n",
       "        28275.        ,  47906.6       ,  49801.        ,  41701.85714286,\n",
       "        51300.625     ,  35721.6       ,  51310.5       ,  78837.        ,\n",
       "        54500.6       ,  55364.75      ,  54313.5       ,  56712.2       ,\n",
       "        63185.4       ,  48624.28571429,  64982.6       ,  50419.125     ,\n",
       "        56583.2       ,  26833.        ,  77241.5       ,  48517.28571429,\n",
       "        80800.4       ,  50978.66666667,  56607.33333333,  49530.75      ,\n",
       "        74431.16666667,  44413.5       ,  73834.5       ,  48269.16666667,\n",
       "        44456.83333333,  52708.83333333,  43736.5       ,  40376.16666667,\n",
       "        50129.        ,  70998.66666667,  49000.83333333,  46167.5       ,\n",
       "        50425.85714286,  45408.2       ,  42201.83333333,  37223.42857143,\n",
       "        32080.        ,  41390.        ,  44105.6       ,  54584.85714286,\n",
       "        47717.28571429,  48423.44444444,  57983.        ,  32517.85714286,\n",
       "        40282.42857143,  35776.57142857,  60666.4       ,  43753.42857143,\n",
       "        41460.2       ,  64593.66666667,  56125.375     ,  60605.5       ,\n",
       "        70760.        ,  56346.5       ,  73352.42857143,  48583.        ,\n",
       "        52863.        ,  53248.28571429,  60610.14285714,  78300.6       ,\n",
       "        80632.83333333,  55938.16666667,  83881.33333333,  68906.4       ,\n",
       "        39586.5       ,  48297.6       ,  56380.        ,  43777.2       ,\n",
       "        56145.        ,  44893.57142857,  51141.        ,  46757.66666667,\n",
       "        90869.5       ,  52493.66666667,  36117.83333333,  32794.42857143,\n",
       "        50057.5       ,  47969.33333333,  40882.4       ])"
      ]
     },
     "execution_count": 9,
     "metadata": {},
     "output_type": "execute_result"
    }
   ],
   "source": [
    "# Calculate spatial lag with a row standardized W\n",
    "w.transform = 'r'\n",
    "yr = pysal.lag_spatial(w,y)\n",
    "yr"
   ]
  },
  {
   "cell_type": "markdown",
   "metadata": {
    "deletable": true,
    "editable": true
   },
   "source": [
    "## 3.3 Spatial Autocorrelation\n",
    "#### 3.3.1 Overview\n",
    "Spatial autocorrelation originates from values distributed over space that are not the product of a random process. The oft quoted Waldo Tobler established the 1st Law of Geography which states that:\n",
    "\n",
    ">everything is related to everything else, but near things are more related than distant things.\n",
    "\n",
    "Spatial autocorrelation can be measured as a global or local effect in a spatial dataset and can also be both positive and negative.\n",
    "\n",
    "<img src=\"./img/sa.jpg\" width=\"600\" height=\"300\"/></img>\n"
   ]
  },
  {
   "cell_type": "markdown",
   "metadata": {
    "deletable": true,
    "editable": true
   },
   "source": [
    "#### 3.3.2 Measures of Global Spatial Autocorrelation\n",
    "PySAL provides a number of global spatial autocorrelation measures. We'll focus on arguably the most widely used statistic called Moran's I named after Pat Moran. The statistic can be calculated using the following formula:\n",
    "\n",
    "<img src=\"./img/moransI.png\" width=\"300\" height=\"300\"/></img>\n",
    "\n",
    "where ...\n",
    "\n",
    "Let's caluclate Moran's I for median household income values in St. Petersburg, Fl using PySAL."
   ]
  },
  {
   "cell_type": "code",
   "execution_count": 20,
   "metadata": {
    "collapsed": false,
    "deletable": true,
    "editable": true
   },
   "outputs": [
    {
     "data": {
      "text/plain": [
       "0.33661606822377693"
      ]
     },
     "execution_count": 20,
     "metadata": {},
     "output_type": "execute_result"
    }
   ],
   "source": [
    "# Calculate Moran's I using a column and weights matrix\n",
    "mi = pysal.Moran(y, w, two_tailed=False)\n",
    "mi.I\n",
    "# mi.EI"
   ]
  },
  {
   "cell_type": "code",
   "execution_count": 21,
   "metadata": {
    "collapsed": false,
    "deletable": true,
    "editable": true
   },
   "outputs": [
    {
     "data": {
      "text/plain": [
       "0.0001"
      ]
     },
     "execution_count": 21,
     "metadata": {},
     "output_type": "execute_result"
    }
   ],
   "source": [
    "# Calculate the pseudo p-value for Moran's I\n",
    "np.random.seed(12345)\n",
    "mir = pysal.Moran(y, w, permutations = 9999)\n",
    "mir.p_sim"
   ]
  },
  {
   "cell_type": "markdown",
   "metadata": {
    "deletable": true,
    "editable": true
   },
   "source": [
    "> *Show Moran's I  in GeoDa"
   ]
  },
  {
   "cell_type": "markdown",
   "metadata": {
    "deletable": true,
    "editable": true
   },
   "source": [
    "#### 3.3.3 Local Spatial Autocorrelation\n",
    "Local indicators of spatial autocorrelation assess the spatial autocorrelation at each observation. "
   ]
  },
  {
   "cell_type": "code",
   "execution_count": 23,
   "metadata": {
    "collapsed": false,
    "deletable": true,
    "editable": true
   },
   "outputs": [
    {
     "data": {
      "text/plain": [
       "array([  1.18765140e+00,   9.34563357e-01,   8.44806031e-03,\n",
       "        -1.93368834e-01,   7.22973914e-01,   1.18268986e+00,\n",
       "         2.53963372e+00,  -2.16855935e-01,   4.21878455e-01,\n",
       "        -3.53743686e-01,   2.94886358e-01,   8.56554404e-01,\n",
       "         3.45131893e-01,   2.06155011e-01,   1.22118296e-01,\n",
       "         3.82878667e-02,  -7.06033910e-02,   1.74910984e+00,\n",
       "         4.34361984e-02,  -5.98533352e-03,   1.40233774e+00,\n",
       "         2.43106110e-03,  -2.37491681e-01,   9.01101224e-01,\n",
       "        -6.47838589e-03,  -4.49042113e-02,  -2.50510597e-02,\n",
       "         3.05115672e-02,   6.80355820e-01,   1.72919456e-01,\n",
       "        -4.31957876e-03,   2.28839923e-02,  -4.88228594e-02,\n",
       "         4.50618088e-02,   1.53197312e-01,   1.81549311e-01,\n",
       "         2.83476150e-03,   1.83965373e+00,   1.87716048e+00,\n",
       "         4.10865352e-01,   6.70531262e-04,   4.79789773e-02,\n",
       "         4.70265368e-02,   3.13831239e-01,   2.21060912e-01,\n",
       "         8.59479509e-02,   1.11301603e+00,   1.16335530e+00,\n",
       "         1.55586770e+00,   4.90328685e-01,   1.49254973e+00,\n",
       "         1.67955526e+00,   2.66906826e-01,   1.01046571e-01,\n",
       "        -8.77570976e-01,   7.94075708e-02,  -4.48059991e-02,\n",
       "         1.81003712e-03,  -3.66933131e-02,  -3.63486698e-01,\n",
       "         1.79343160e-01,   5.84214227e-01,  -9.44677033e-03,\n",
       "         3.49674666e-01,   5.88364402e-02,   7.51859416e-01,\n",
       "        -9.30409429e-02,   1.01191460e-01,   7.35575174e-02,\n",
       "        -4.18014057e-02,   2.37651352e-01,  -1.36171166e-01,\n",
       "         3.29393278e-02,   7.30621433e-02,   1.39033568e-02,\n",
       "        -6.20659262e-02,   3.55814974e-01,   1.11969952e+00,\n",
       "        -2.28673476e+00,   8.77944054e-01,   2.36580945e+00,\n",
       "         1.78824964e-01,   9.48478250e-01,   5.05303460e-02,\n",
       "         4.10915993e-01,   6.87505024e-02,   7.12878186e-01,\n",
       "         1.32175676e-03,   1.04015249e+00,  -5.63971129e-02,\n",
       "         9.71894195e-01,   1.05056507e+00,   1.43810279e-01,\n",
       "         5.30304849e-01,   7.44018406e-02,  -5.26679975e-01,\n",
       "         1.99435454e-01,   1.64556697e-01,   1.89820326e-02,\n",
       "         2.40839450e-03,  -4.58631561e-02,   4.54224141e-02,\n",
       "         4.92639716e-01,  -4.95612529e-02,   3.86785259e-02,\n",
       "         3.82288845e-01,  -4.35141491e-01,   2.75278670e+00,\n",
       "         7.23554599e-01,  -7.56392260e-02,  -1.03135025e-01,\n",
       "        -8.11725549e-02,   1.34117332e-01,   3.38087752e-01,\n",
       "         8.37484811e-01,   1.73161591e-01,   1.11920587e+00,\n",
       "        -1.17151386e-01,  -4.82863506e-01,   3.37415692e-01,\n",
       "         7.84612749e-02,   1.34343849e-01,   2.01229479e-01,\n",
       "         1.05721256e+00,   7.36782241e-01,   9.84169274e-01,\n",
       "         9.58003786e-01,  -5.02128928e-03,   7.49144654e-02,\n",
       "         6.66741746e-02,  -5.40128794e-02,  -1.15656288e-02,\n",
       "         2.86593781e-01,  -1.38485308e-01,   7.14648527e-01,\n",
       "        -1.83087369e-01,  -4.04101859e-02,  -6.36423168e-03,\n",
       "        -2.71229753e-01,  -3.93933825e-02,  -1.91846436e-01,\n",
       "        -8.82281451e-02,  -1.60322884e-02,  -9.49790960e-02,\n",
       "        -8.87444100e-03,   1.63089594e+00,   1.16049247e+00,\n",
       "         1.29507108e+00,   1.27315196e+00,   9.58830833e-04,\n",
       "        -8.09470274e-02,  -2.41444782e-01,   1.84677369e-01,\n",
       "        -3.51053555e-02,  -6.52098973e-03,  -3.07523609e-02,\n",
       "         2.18678414e-01,   3.40457414e-02,   3.27556351e-01,\n",
       "         1.07657633e+00,  -1.05351419e-01,  -1.64381482e-02,\n",
       "         1.90248095e-01,  -7.94380079e-02,  -1.09439028e-01,\n",
       "         9.15202154e-01,   1.46446182e+00,  -4.60904480e-03,\n",
       "        -4.74668661e-01,   1.16634256e-01,  -8.39248398e-02,\n",
       "        -3.63052819e-02,   3.29008361e+00,   4.72551245e-02,\n",
       "         1.57678021e+00,  -3.00366600e-03,   1.19253539e-01,\n",
       "         1.05906504e-01,   1.15932887e-01,   3.82097805e-01,\n",
       "        -6.05404727e-02,   2.84191881e+00,  -3.58237966e-02,\n",
       "        -2.29224282e-02,  -5.84592012e-02,   4.41329753e-02,\n",
       "         2.12024513e-01,  -4.83534230e-01,  -5.54145213e-01,\n",
       "        -3.07282429e-01,   1.13621852e-02,   3.74528479e-01,\n",
       "        -8.48591355e-03,  -2.41539290e-02,   1.09595818e-02,\n",
       "         9.18742798e-01,  -1.12398511e-01,  -7.25793812e-02,\n",
       "        -1.11042437e-01,   6.78567173e-02,   1.18264134e-01,\n",
       "         1.20142807e+00,   1.57279367e-01,   2.49640740e+00,\n",
       "         3.44089943e-01,   1.41781058e+00,   1.78430640e+00,\n",
       "         8.64636480e-03,  -1.68620934e-02,   1.00411408e-01,\n",
       "        -3.00317021e-01,   3.06648119e+00,   1.08240942e+00,\n",
       "         2.00395095e-01,   6.18086559e-01,   3.73930534e+00,\n",
       "        -1.78213980e-01,   2.24421557e-02,   6.63931872e-02,\n",
       "        -2.04386840e-02,   6.50918221e-01,  -1.70373178e-01,\n",
       "        -8.53070749e-02,  -7.66917849e-03,  -1.07589070e+00,\n",
       "         6.14353438e-02,  -1.72241594e-01,   4.95264596e-02,\n",
       "         3.03332398e-02,   1.08071304e-04,   2.18607556e-01])"
      ]
     },
     "execution_count": 23,
     "metadata": {},
     "output_type": "execute_result"
    }
   ],
   "source": [
    "# Calculate LISA for a dataset\n",
    "lm = pysal.Moran_Local(y,w)\n",
    "lm.n\n",
    "len(lm.Is)\n",
    "# lm.p_sim\n",
    "lm.Is"
   ]
  }
 ],
 "metadata": {
  "anaconda-cloud": {},
  "kernelspec": {
   "display_name": "Python 3",
   "language": "python",
   "name": "python3"
  },
  "language_info": {
   "codemirror_mode": {
    "name": "ipython",
    "version": 3
   },
   "file_extension": ".py",
   "mimetype": "text/x-python",
   "name": "python",
   "nbconvert_exporter": "python",
   "pygments_lexer": "ipython3",
   "version": "3.5.3"
  }
 },
 "nbformat": 4,
 "nbformat_minor": 2
}
