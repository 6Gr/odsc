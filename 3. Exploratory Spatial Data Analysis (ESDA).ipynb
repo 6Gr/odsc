{
 "cells": [
  {
   "cell_type": "markdown",
   "metadata": {
    "deletable": true,
    "editable": true
   },
   "source": [
    "# 3. Exploratory Spatial Data Analysis (ESDA)\n",
    "## 3.1 Python Spatial Abstraction Library (PySAL)"
   ]
  },
  {
   "cell_type": "markdown",
   "metadata": {
    "deletable": true,
    "editable": true
   },
   "source": [
    "#### 3.1.1 Overview\n",
    "[PySAL](http://pysal.readthedocs.io/en/latest/) is a Python library that enables users to incorporate a number of spatial analytical methods into their applications including:\n",
    "* Creating spatial weights matrices\n",
    "* Assessing spatial autocorrelation\n",
    "* Spatial econometric modeling"
   ]
  },
  {
   "cell_type": "markdown",
   "metadata": {
    "deletable": true,
    "editable": true
   },
   "source": [
    "#### 3.1.2 Installation and Packaging\n",
    "\n",
    "`conda install pysal`\n",
    "\n",
    "`pip install -U pysal`"
   ]
  },
  {
   "cell_type": "markdown",
   "metadata": {
    "deletable": true,
    "editable": true
   },
   "source": [
    "#### 3.1.3 Basic Usage\n",
    "PySAL has its own geosptial I/O tools that can read and write many of the formats that GDAL/OGR can. It provides additional support for a number of spatials weights formats."
   ]
  },
  {
   "cell_type": "code",
   "execution_count": 2,
   "metadata": {
    "collapsed": false,
    "deletable": true,
    "editable": true
   },
   "outputs": [
    {
     "data": {
      "text/plain": [
       "231"
      ]
     },
     "execution_count": 2,
     "metadata": {},
     "output_type": "execute_result"
    }
   ],
   "source": [
    "# Read a shapefile\n",
    "import pysal\n",
    "# pysal.open.check()\n",
    "shp = pysal.open('./data/stpete_cenacs_2014.shp')\n",
    "len(shp)"
   ]
  },
  {
   "cell_type": "markdown",
   "metadata": {
    "deletable": true,
    "editable": true
   },
   "source": [
    "> *_Demonstrate opening a shapefile in GeoDa_*"
   ]
  },
  {
   "cell_type": "markdown",
   "metadata": {
    "deletable": true,
    "editable": true
   },
   "source": [
    "## 3.2 Spatial Weights Matrix\n",
    "#### 3.2.1 Introduction\n",
    "Spatial weights matrices form the basis for a number of spatial analytical calculations. They come in a variety of types including:\n",
    "* Contiguity-based weights\n",
    "* Distance-based weights\n",
    "* k-nearest neighbor weights\n",
    "* Distance band weights\n",
    "* Kernel weights\n",
    "\n",
    "For this workshop we will focus on contiguity-based weights that are typically used for polygon geospatial models and can be constructed using a variety of topological criteria:\n",
    "* Queen contiguity (share boundary and/or vertex)\n",
    "* Rook contiguity (share boundary)\n",
    "* Bishop contiguity (share vertex only)\n",
    "* Lagged contiguity\n",
    "\n",
    "<img src=\"./img/rook.png\" width=\"300\" height=\"300\"/></img>\n",
    "\n",
    "<img src=\"./img/queen.png\" width=\"300\" height=\"300\"/></img>"
   ]
  },
  {
   "cell_type": "markdown",
   "metadata": {
    "deletable": true,
    "editable": true
   },
   "source": [
    "#### 3.2.2 Creating the weights matrix (W)\n",
    "The easiest way to create a weights matrix in PySAL is to create it directly from the file. The weights have a number of properties that make it easy to characterize contiguity within the data including the number of neighbors at a certain location and the histogram of neighbors."
   ]
  },
  {
   "cell_type": "code",
   "execution_count": null,
   "metadata": {
    "collapsed": false,
    "deletable": true,
    "editable": true
   },
   "outputs": [],
   "source": [
    "# Create a weights matrix with rook contiguity from a shapefile\n",
    "w = pysal.rook_from_shapefile(\"stpete_cenacs_2014.shp\")\n",
    "w.weights[0]\n",
    "w.neighbors[5]"
   ]
  },
  {
   "cell_type": "code",
   "execution_count": null,
   "metadata": {
    "collapsed": false,
    "deletable": true,
    "editable": true
   },
   "outputs": [],
   "source": [
    "# Create a weights matrix with queen contiguity from a shapefile\n",
    "w = pysal.queen_from_shapefile(\"stpete_cenacs_2014.shp\")\n",
    "# w.weights[0]\n",
    "# w.neighbors[5]\n",
    "w.histogram"
   ]
  },
  {
   "cell_type": "code",
   "execution_count": null,
   "metadata": {
    "collapsed": true,
    "deletable": true,
    "editable": true
   },
   "outputs": [],
   "source": [
    "# Export a W as a .gal file\n",
    "gal = pysal.open('stpete_cenacs_2014.gal','w')\n",
    "gal.write(w)\n",
    "gal.close()"
   ]
  },
  {
   "cell_type": "markdown",
   "metadata": {
    "deletable": true,
    "editable": true
   },
   "source": [
    "> Demonstrate creating a W matrix in GeoDa"
   ]
  },
  {
   "cell_type": "markdown",
   "metadata": {
    "deletable": true,
    "editable": true
   },
   "source": [
    "#### 3.2.3 Higher Order Contiguity and Spatial Lag\n",
    "\n",
    "Some use cases require the calcultion of higher order contiguity. For example, analysis of pollution from a smoke stack which avoids immediate neighborhoods, but may pollute neighborhoods further away as particulates settle. PySAL makes it easy to construct a higher order weights matrix from an existing one."
   ]
  },
  {
   "cell_type": "code",
   "execution_count": null,
   "metadata": {
    "collapsed": false,
    "deletable": true,
    "editable": true
   },
   "outputs": [],
   "source": [
    "# Create a higher order weights matrix from an existing W\n",
    "w2 = pysal.higher_order(w, 2)\n",
    "w2.neighbors[0]\n",
    "w2"
   ]
  },
  {
   "cell_type": "markdown",
   "metadata": {
    "deletable": true,
    "editable": true
   },
   "source": [
    "Spatial lag is a new variable created based on an absolute or weighted average (row standarized W) "
   ]
  },
  {
   "cell_type": "code",
   "execution_count": null,
   "metadata": {
    "collapsed": false,
    "deletable": true,
    "editable": true
   },
   "outputs": [],
   "source": [
    "# Calculate the spatial lag for Median household income\n",
    "import numpy as np\n",
    "f = pysal.open(\"stpete_cenacs_2014.dbf\")\n",
    "f.header\n",
    "y = np.array(f.by_col['MEDHHINC'])\n",
    "yl = pysal.lag_spatial(w,y)\n",
    "yl"
   ]
  },
  {
   "cell_type": "code",
   "execution_count": null,
   "metadata": {
    "collapsed": false,
    "deletable": true,
    "editable": true
   },
   "outputs": [],
   "source": [
    "# Calculate spatial lag with a row standardized W\n",
    "w.transform = 'r'\n",
    "yr = pysal.lag_spatial(w,y)\n",
    "yr"
   ]
  },
  {
   "cell_type": "markdown",
   "metadata": {
    "deletable": true,
    "editable": true
   },
   "source": [
    "## 3.3 Spatial Autocorrelation\n",
    "#### 3.3.1 Overview\n",
    "Spatial autocorrelation originates from values distributed over space that are not the product of a random process. The oft quoted Waldo Tobler established the 1st Law of Geography which states that:\n",
    "\n",
    ">everything is related to everything else, but near things are more related than distant things.\n",
    "\n",
    "Spatial autocorrelation can be measured as a global or local effect in a spatial dataset and can also be both positive and negative.\n",
    "\n",
    "<img src=\"./img/sa.jpg\" width=\"600\" height=\"300\"/></img>\n"
   ]
  },
  {
   "cell_type": "markdown",
   "metadata": {
    "deletable": true,
    "editable": true
   },
   "source": [
    "#### 3.3.2 Measures of Global Spatial Autocorrelation\n",
    "PySAL provides a number of global spatial autocorrelation measures. We'll focus on arguably the most widely used statistic called Moran's I named after Pat Moran. The statistic can be calculated using the following formula:\n",
    "\n",
    "<img src=\"./img/moransI.png\" width=\"300\" height=\"300\"/></img>\n",
    "\n",
    "where ...\n",
    "\n",
    "Let's caluclate Moran's I for median household income values in St. Petersburg, Fl using PySAL."
   ]
  },
  {
   "cell_type": "code",
   "execution_count": null,
   "metadata": {
    "collapsed": false,
    "deletable": true,
    "editable": true
   },
   "outputs": [],
   "source": [
    "# Calculate Moran's I using a column and weights matrix\n",
    "mi = pysal.Moran(y, w, two_tailed=False)\n",
    "mi.I\n",
    "mi.EI"
   ]
  },
  {
   "cell_type": "code",
   "execution_count": null,
   "metadata": {
    "collapsed": false,
    "deletable": true,
    "editable": true
   },
   "outputs": [],
   "source": [
    "# Calculate the pseudo p-value for Moran's I\n",
    "np.random.seed(12345)\n",
    "mir = pysal.Moran(y, w, permutations = 9999)\n",
    "mir.p_sim"
   ]
  },
  {
   "cell_type": "markdown",
   "metadata": {},
   "source": [
    "> *Show Moran's I  in GeoDa"
   ]
  },
  {
   "cell_type": "markdown",
   "metadata": {
    "deletable": true,
    "editable": true
   },
   "source": [
    "#### 3.3.3 Local Spatial Autocorrelation\n",
    "Local indicators of spatial autocorrelation assess the spatial autocorrelation at each observation. "
   ]
  },
  {
   "cell_type": "code",
   "execution_count": 4,
   "metadata": {
    "collapsed": false,
    "deletable": true,
    "editable": true
   },
   "outputs": [
    {
     "ename": "NameError",
     "evalue": "name 'y' is not defined",
     "output_type": "error",
     "traceback": [
      "\u001b[0;31m---------------------------------------------------------------------------\u001b[0m",
      "\u001b[0;31mNameError\u001b[0m                                 Traceback (most recent call last)",
      "\u001b[0;32m<ipython-input-4-cb1f54448c9c>\u001b[0m in \u001b[0;36m<module>\u001b[0;34m()\u001b[0m\n\u001b[1;32m      1\u001b[0m \u001b[0;31m# Calculate LISA for a dataset\u001b[0m\u001b[0;34m\u001b[0m\u001b[0;34m\u001b[0m\u001b[0m\n\u001b[0;32m----> 2\u001b[0;31m \u001b[0mlm\u001b[0m \u001b[0;34m=\u001b[0m \u001b[0mpysal\u001b[0m\u001b[0;34m.\u001b[0m\u001b[0mMoran_Local\u001b[0m\u001b[0;34m(\u001b[0m\u001b[0my\u001b[0m\u001b[0;34m,\u001b[0m\u001b[0mw\u001b[0m\u001b[0;34m)\u001b[0m\u001b[0;34m\u001b[0m\u001b[0m\n\u001b[0m\u001b[1;32m      3\u001b[0m \u001b[0mlm\u001b[0m\u001b[0;34m.\u001b[0m\u001b[0mn\u001b[0m\u001b[0;34m\u001b[0m\u001b[0m\n\u001b[1;32m      4\u001b[0m \u001b[0mlen\u001b[0m\u001b[0;34m(\u001b[0m\u001b[0mlm\u001b[0m\u001b[0;34m.\u001b[0m\u001b[0mIs\u001b[0m\u001b[0;34m)\u001b[0m\u001b[0;34m\u001b[0m\u001b[0m\n\u001b[1;32m      5\u001b[0m \u001b[0mlm\u001b[0m\u001b[0;34m.\u001b[0m\u001b[0mp_sim\u001b[0m\u001b[0;34m\u001b[0m\u001b[0m\n",
      "\u001b[0;31mNameError\u001b[0m: name 'y' is not defined"
     ]
    }
   ],
   "source": [
    "# Calculate LISA for a dataset\n",
    "lm = pysal.Moran_Local(y,w)\n",
    "lm.n\n",
    "len(lm.Is)\n",
    "lm.p_sim"
   ]
  }
 ],
 "metadata": {
  "anaconda-cloud": {},
  "kernelspec": {
   "display_name": "Python 3",
   "language": "python",
   "name": "python3"
  },
  "language_info": {
   "codemirror_mode": {
    "name": "ipython",
    "version": 3
   },
   "file_extension": ".py",
   "mimetype": "text/x-python",
   "name": "python",
   "nbconvert_exporter": "python",
   "pygments_lexer": "ipython3",
   "version": "3.5.3"
  }
 },
 "nbformat": 4,
 "nbformat_minor": 2
}
