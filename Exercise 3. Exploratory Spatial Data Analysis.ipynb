{
 "cells": [
  {
   "cell_type": "code",
   "execution_count": 30,
   "metadata": {
    "collapsed": false,
    "deletable": true,
    "editable": true,
    "scrolled": true
   },
   "outputs": [
    {
     "ename": "AttributeError",
     "evalue": "No geometry data set yet (expected in column 'geometry'.",
     "output_type": "error",
     "traceback": [
      "\u001b[0;31m---------------------------------------------------------------------------\u001b[0m",
      "\u001b[0;31mAttributeError\u001b[0m                            Traceback (most recent call last)",
      "\u001b[0;32m<ipython-input-30-cbe72e8341d4>\u001b[0m in \u001b[0;36m<module>\u001b[0;34m()\u001b[0m\n\u001b[1;32m      4\u001b[0m \u001b[0;34m\u001b[0m\u001b[0m\n\u001b[1;32m      5\u001b[0m \u001b[0mstp_sales_2015\u001b[0m \u001b[0;34m=\u001b[0m \u001b[0mgpd\u001b[0m\u001b[0;34m.\u001b[0m\u001b[0mread_file\u001b[0m\u001b[0;34m(\u001b[0m\u001b[0;34m'./data/stpete_sales_2015.shp'\u001b[0m\u001b[0;34m)\u001b[0m\u001b[0;34m\u001b[0m\u001b[0m\n\u001b[0;32m----> 6\u001b[0;31m \u001b[0mstp_sales_2015\u001b[0m\u001b[0;34m[\u001b[0m\u001b[0;34m\"x\"\u001b[0m\u001b[0;34m]\u001b[0m \u001b[0;34m=\u001b[0m \u001b[0mstp_sales_2015\u001b[0m\u001b[0;34m.\u001b[0m\u001b[0mcentroid\u001b[0m\u001b[0;34m.\u001b[0m\u001b[0mmap\u001b[0m\u001b[0;34m(\u001b[0m\u001b[0;32mlambda\u001b[0m \u001b[0mp\u001b[0m\u001b[0;34m:\u001b[0m \u001b[0mp\u001b[0m\u001b[0;34m.\u001b[0m\u001b[0mx\u001b[0m\u001b[0;34m)\u001b[0m\u001b[0;34m\u001b[0m\u001b[0m\n\u001b[0m\u001b[1;32m      7\u001b[0m \u001b[0mstp_sales_2015\u001b[0m\u001b[0;34m[\u001b[0m\u001b[0;34m\"y\"\u001b[0m\u001b[0;34m]\u001b[0m \u001b[0;34m=\u001b[0m \u001b[0mstp_sales_2015\u001b[0m\u001b[0;34m.\u001b[0m\u001b[0mcentroid\u001b[0m\u001b[0;34m.\u001b[0m\u001b[0mmap\u001b[0m\u001b[0;34m(\u001b[0m\u001b[0;32mlambda\u001b[0m \u001b[0mp\u001b[0m\u001b[0;34m:\u001b[0m \u001b[0mp\u001b[0m\u001b[0;34m.\u001b[0m\u001b[0my\u001b[0m\u001b[0;34m)\u001b[0m\u001b[0;34m\u001b[0m\u001b[0m\n\u001b[1;32m      8\u001b[0m \u001b[0mstp_sales_2015\u001b[0m\u001b[0;34m.\u001b[0m\u001b[0mhead\u001b[0m\u001b[0;34m(\u001b[0m\u001b[0;34m)\u001b[0m\u001b[0;34m\u001b[0m\u001b[0m\n",
      "\u001b[0;32m/home/tankofvines/anaconda3/lib/python3.5/site-packages/pandas/core/generic.py\u001b[0m in \u001b[0;36m__getattr__\u001b[0;34m(self, name)\u001b[0m\n\u001b[1;32m   2742\u001b[0m             \u001b[0;32mif\u001b[0m \u001b[0mname\u001b[0m \u001b[0;32min\u001b[0m \u001b[0mself\u001b[0m\u001b[0;34m.\u001b[0m\u001b[0m_info_axis\u001b[0m\u001b[0;34m:\u001b[0m\u001b[0;34m\u001b[0m\u001b[0m\n\u001b[1;32m   2743\u001b[0m                 \u001b[0;32mreturn\u001b[0m \u001b[0mself\u001b[0m\u001b[0;34m[\u001b[0m\u001b[0mname\u001b[0m\u001b[0;34m]\u001b[0m\u001b[0;34m\u001b[0m\u001b[0m\n\u001b[0;32m-> 2744\u001b[0;31m             \u001b[0;32mreturn\u001b[0m \u001b[0mobject\u001b[0m\u001b[0;34m.\u001b[0m\u001b[0m__getattribute__\u001b[0m\u001b[0;34m(\u001b[0m\u001b[0mself\u001b[0m\u001b[0;34m,\u001b[0m \u001b[0mname\u001b[0m\u001b[0;34m)\u001b[0m\u001b[0;34m\u001b[0m\u001b[0m\n\u001b[0m\u001b[1;32m   2745\u001b[0m \u001b[0;34m\u001b[0m\u001b[0m\n\u001b[1;32m   2746\u001b[0m     \u001b[0;32mdef\u001b[0m \u001b[0m__setattr__\u001b[0m\u001b[0;34m(\u001b[0m\u001b[0mself\u001b[0m\u001b[0;34m,\u001b[0m \u001b[0mname\u001b[0m\u001b[0;34m,\u001b[0m \u001b[0mvalue\u001b[0m\u001b[0;34m)\u001b[0m\u001b[0;34m:\u001b[0m\u001b[0;34m\u001b[0m\u001b[0m\n",
      "\u001b[0;32m/home/tankofvines/anaconda3/lib/python3.5/site-packages/geopandas/base.py\u001b[0m in \u001b[0;36mcentroid\u001b[0;34m(self)\u001b[0m\n\u001b[1;32m    148\u001b[0m     \u001b[0;32mdef\u001b[0m \u001b[0mcentroid\u001b[0m\u001b[0;34m(\u001b[0m\u001b[0mself\u001b[0m\u001b[0;34m)\u001b[0m\u001b[0;34m:\u001b[0m\u001b[0;34m\u001b[0m\u001b[0m\n\u001b[1;32m    149\u001b[0m         \u001b[0;34m\"\"\"Return the centroid of each geometry in the GeoSeries\"\"\"\u001b[0m\u001b[0;34m\u001b[0m\u001b[0m\n\u001b[0;32m--> 150\u001b[0;31m         \u001b[0;32mreturn\u001b[0m \u001b[0m_geo_unary_op\u001b[0m\u001b[0;34m(\u001b[0m\u001b[0mself\u001b[0m\u001b[0;34m,\u001b[0m \u001b[0;34m'centroid'\u001b[0m\u001b[0;34m)\u001b[0m\u001b[0;34m\u001b[0m\u001b[0m\n\u001b[0m\u001b[1;32m    151\u001b[0m \u001b[0;34m\u001b[0m\u001b[0m\n\u001b[1;32m    152\u001b[0m     \u001b[0;34m@\u001b[0m\u001b[0mproperty\u001b[0m\u001b[0;34m\u001b[0m\u001b[0m\n",
      "\u001b[0;32m/home/tankofvines/anaconda3/lib/python3.5/site-packages/geopandas/base.py\u001b[0m in \u001b[0;36m_geo_unary_op\u001b[0;34m(this, op)\u001b[0m\n\u001b[1;32m     57\u001b[0m \u001b[0;32mdef\u001b[0m \u001b[0m_geo_unary_op\u001b[0m\u001b[0;34m(\u001b[0m\u001b[0mthis\u001b[0m\u001b[0;34m,\u001b[0m \u001b[0mop\u001b[0m\u001b[0;34m)\u001b[0m\u001b[0;34m:\u001b[0m\u001b[0;34m\u001b[0m\u001b[0m\n\u001b[1;32m     58\u001b[0m     \u001b[0;34m\"\"\"Unary operation that returns a GeoSeries\"\"\"\u001b[0m\u001b[0;34m\u001b[0m\u001b[0m\n\u001b[0;32m---> 59\u001b[0;31m     return gpd.GeoSeries([getattr(geom, op) for geom in this.geometry],\n\u001b[0m\u001b[1;32m     60\u001b[0m                      index=this.index, crs=this.crs)\n\u001b[1;32m     61\u001b[0m \u001b[0;34m\u001b[0m\u001b[0m\n",
      "\u001b[0;32m/home/tankofvines/anaconda3/lib/python3.5/site-packages/pandas/core/generic.py\u001b[0m in \u001b[0;36m__getattr__\u001b[0;34m(self, name)\u001b[0m\n\u001b[1;32m   2742\u001b[0m             \u001b[0;32mif\u001b[0m \u001b[0mname\u001b[0m \u001b[0;32min\u001b[0m \u001b[0mself\u001b[0m\u001b[0;34m.\u001b[0m\u001b[0m_info_axis\u001b[0m\u001b[0;34m:\u001b[0m\u001b[0;34m\u001b[0m\u001b[0m\n\u001b[1;32m   2743\u001b[0m                 \u001b[0;32mreturn\u001b[0m \u001b[0mself\u001b[0m\u001b[0;34m[\u001b[0m\u001b[0mname\u001b[0m\u001b[0;34m]\u001b[0m\u001b[0;34m\u001b[0m\u001b[0m\n\u001b[0;32m-> 2744\u001b[0;31m             \u001b[0;32mreturn\u001b[0m \u001b[0mobject\u001b[0m\u001b[0;34m.\u001b[0m\u001b[0m__getattribute__\u001b[0m\u001b[0;34m(\u001b[0m\u001b[0mself\u001b[0m\u001b[0;34m,\u001b[0m \u001b[0mname\u001b[0m\u001b[0;34m)\u001b[0m\u001b[0;34m\u001b[0m\u001b[0m\n\u001b[0m\u001b[1;32m   2745\u001b[0m \u001b[0;34m\u001b[0m\u001b[0m\n\u001b[1;32m   2746\u001b[0m     \u001b[0;32mdef\u001b[0m \u001b[0m__setattr__\u001b[0m\u001b[0;34m(\u001b[0m\u001b[0mself\u001b[0m\u001b[0;34m,\u001b[0m \u001b[0mname\u001b[0m\u001b[0;34m,\u001b[0m \u001b[0mvalue\u001b[0m\u001b[0;34m)\u001b[0m\u001b[0;34m:\u001b[0m\u001b[0;34m\u001b[0m\u001b[0m\n",
      "\u001b[0;32m/home/tankofvines/anaconda3/lib/python3.5/site-packages/geopandas/geodataframe.py\u001b[0m in \u001b[0;36m_get_geometry\u001b[0;34m(self)\u001b[0m\n\u001b[1;32m     75\u001b[0m         \u001b[0;32mif\u001b[0m \u001b[0mself\u001b[0m\u001b[0;34m.\u001b[0m\u001b[0m_geometry_column_name\u001b[0m \u001b[0;32mnot\u001b[0m \u001b[0;32min\u001b[0m \u001b[0mself\u001b[0m\u001b[0;34m:\u001b[0m\u001b[0;34m\u001b[0m\u001b[0m\n\u001b[1;32m     76\u001b[0m             raise AttributeError(\"No geometry data set yet (expected in\"\n\u001b[0;32m---> 77\u001b[0;31m                                  \" column '%s'.\" % self._geometry_column_name)\n\u001b[0m\u001b[1;32m     78\u001b[0m         \u001b[0;32mreturn\u001b[0m \u001b[0mself\u001b[0m\u001b[0;34m[\u001b[0m\u001b[0mself\u001b[0m\u001b[0;34m.\u001b[0m\u001b[0m_geometry_column_name\u001b[0m\u001b[0;34m]\u001b[0m\u001b[0;34m\u001b[0m\u001b[0m\n\u001b[1;32m     79\u001b[0m \u001b[0;34m\u001b[0m\u001b[0m\n",
      "\u001b[0;31mAttributeError\u001b[0m: No geometry data set yet (expected in column 'geometry'."
     ]
    }
   ],
   "source": [
    "# Sneak peek into some geometric feature engineering to add centroids of the parcels\n",
    "import numpy as np\n",
    "import geopandas as gpd\n",
    "\n",
    "stp_sales_2015 = gpd.read_file('./data/stpete_sales_2015.shp')\n",
    "stp_sales_2015[\"x\"] = stp_sales_2015.centroid.map(lambda p: p.x)\n",
    "stp_sales_2015[\"y\"] = stp_sales_2015.centroid.map(lambda p: p.y)\n",
    "stp_sales_2015.head()"
   ]
  },
  {
   "cell_type": "code",
   "execution_count": 15,
   "metadata": {
    "collapsed": false,
    "deletable": true,
    "editable": true,
    "scrolled": true
   },
   "outputs": [],
   "source": [
    "# Open the St. Pete Census ACS in PySAL\n",
    "import pysal\n",
    "stp_parcels = pysal.open('./data/stpete_cenacs_2014.shp')"
   ]
  },
  {
   "cell_type": "code",
   "execution_count": 16,
   "metadata": {
    "collapsed": false,
    "deletable": true,
    "editable": true,
    "scrolled": true
   },
   "outputs": [
    {
     "data": {
      "text/plain": [
       "[(1, 1),\n",
       " (2, 2),\n",
       " (3, 10),\n",
       " (4, 20),\n",
       " (5, 48),\n",
       " (6, 57),\n",
       " (7, 58),\n",
       " (8, 21),\n",
       " (9, 8),\n",
       " (10, 2),\n",
       " (11, 2),\n",
       " (12, 0),\n",
       " (13, 0),\n",
       " (14, 1),\n",
       " (15, 0),\n",
       " (16, 0),\n",
       " (17, 1)]"
      ]
     },
     "execution_count": 16,
     "metadata": {},
     "output_type": "execute_result"
    }
   ],
   "source": [
    "# Create a queen contiguity 1st order weights matrix and show the histogram\n",
    "w = pysal.queen_from_shapefile(\"./data/stpete_cenacs_2014.shp\")\n",
    "w.histogram"
   ]
  },
  {
   "cell_type": "code",
   "execution_count": 17,
   "metadata": {
    "collapsed": false,
    "deletable": true,
    "editable": true,
    "scrolled": true
   },
   "outputs": [
    {
     "data": {
      "text/plain": [
       "0.005025135774761472"
      ]
     },
     "execution_count": 17,
     "metadata": {},
     "output_type": "execute_result"
    }
   ],
   "source": [
    "# Get the minimum nearest neighbor distance for the census block groups\n",
    "thresh = pysal.min_threshold_dist_from_shapefile(\"./data/stpete_sales_2015.shp\")\n",
    "thresh"
   ]
  },
  {
   "cell_type": "code",
   "execution_count": 18,
   "metadata": {
    "collapsed": false,
    "deletable": true,
    "editable": true,
    "scrolled": true
   },
   "outputs": [
    {
     "data": {
      "text/plain": [
       "[(1, 1),\n",
       " (2, 2),\n",
       " (3, 2),\n",
       " (4, 1),\n",
       " (5, 9),\n",
       " (6, 11),\n",
       " (7, 15),\n",
       " (8, 14),\n",
       " (9, 28),\n",
       " (10, 21),\n",
       " (11, 52),\n",
       " (12, 56),\n",
       " (13, 57),\n",
       " (14, 75),\n",
       " (15, 81),\n",
       " (16, 71),\n",
       " (17, 78),\n",
       " (18, 85),\n",
       " (19, 90),\n",
       " (20, 104),\n",
       " (21, 99),\n",
       " (22, 95),\n",
       " (23, 102),\n",
       " (24, 99),\n",
       " (25, 109),\n",
       " (26, 122),\n",
       " (27, 114),\n",
       " (28, 96),\n",
       " (29, 95),\n",
       " (30, 120),\n",
       " (31, 98),\n",
       " (32, 105),\n",
       " (33, 116),\n",
       " (34, 113),\n",
       " (35, 86),\n",
       " (36, 97),\n",
       " (37, 98),\n",
       " (38, 79),\n",
       " (39, 97),\n",
       " (40, 86),\n",
       " (41, 113),\n",
       " (42, 89),\n",
       " (43, 71),\n",
       " (44, 81),\n",
       " (45, 73),\n",
       " (46, 72),\n",
       " (47, 69),\n",
       " (48, 59),\n",
       " (49, 41),\n",
       " (50, 45),\n",
       " (51, 41),\n",
       " (52, 39),\n",
       " (53, 29),\n",
       " (54, 38),\n",
       " (55, 26),\n",
       " (56, 25),\n",
       " (57, 30),\n",
       " (58, 25),\n",
       " (59, 18),\n",
       " (60, 21),\n",
       " (61, 20),\n",
       " (62, 16),\n",
       " (63, 16),\n",
       " (64, 12),\n",
       " (65, 8),\n",
       " (66, 6),\n",
       " (67, 2),\n",
       " (68, 4),\n",
       " (69, 4),\n",
       " (70, 2),\n",
       " (71, 0),\n",
       " (72, 2),\n",
       " (73, 0),\n",
       " (74, 1)]"
      ]
     },
     "execution_count": 18,
     "metadata": {},
     "output_type": "execute_result"
    }
   ],
   "source": [
    "# Create distance based W matrix based on threshold value\n",
    "wt = pysal.threshold_binaryW_from_shapefile(\"./data/stpete_sales_2015.shp\", thresh)\n",
    "wt.histogram"
   ]
  },
  {
   "cell_type": "code",
   "execution_count": 19,
   "metadata": {
    "collapsed": true,
    "deletable": true,
    "editable": true
   },
   "outputs": [],
   "source": [
    "# Export a weights matrix as a .gal file for the 2015 sales\n",
    "gal = pysal.open('./data/stpete_sales_2015.gal','w')\n",
    "gal.write(wt)\n",
    "gal.close()"
   ]
  },
  {
   "cell_type": "code",
   "execution_count": 26,
   "metadata": {
    "collapsed": false
   },
   "outputs": [
    {
     "data": {
      "text/plain": [
       "array([ 50723.30434783,  54677.24561404,  52524.1147541 , ...,\n",
       "        50417.48      ,  53212.66071429,  52835.78846154])"
      ]
     },
     "execution_count": 26,
     "metadata": {},
     "output_type": "execute_result"
    }
   ],
   "source": [
    "# Create the spatial lag for a feature in 2015 sales\n",
    "f = pysal.open(\"./data/stpete_sales_2015.dbf\")\n",
    "f.header\n",
    "y = np.array(f.by_col['MEDHHINC'])\n",
    "yl = pysal.lag_spatial(wt,y)\n",
    "yl"
   ]
  },
  {
   "cell_type": "code",
   "execution_count": 28,
   "metadata": {
    "collapsed": false
   },
   "outputs": [
    {
     "data": {
      "text/html": [
       "<div>\n",
       "<table border=\"1\" class=\"dataframe\">\n",
       "  <thead>\n",
       "    <tr style=\"text-align: right;\">\n",
       "      <th></th>\n",
       "      <th>AVE_FAM_SZ</th>\n",
       "      <th>AVE_HH_SZ</th>\n",
       "      <th>CentroidX</th>\n",
       "      <th>CentroidY</th>\n",
       "      <th>HS_PER_AC</th>\n",
       "      <th>MEDFINCOME</th>\n",
       "      <th>MEDHHINC</th>\n",
       "      <th>MEDOOHVAL</th>\n",
       "      <th>MED_AGE</th>\n",
       "      <th>PCT_AMERI</th>\n",
       "      <th>...</th>\n",
       "      <th>tif_flag_t</th>\n",
       "      <th>tot_effect</th>\n",
       "      <th>tot_gross_</th>\n",
       "      <th>tot_living</th>\n",
       "      <th>total_livi</th>\n",
       "      <th>views</th>\n",
       "      <th>x</th>\n",
       "      <th>y</th>\n",
       "      <th>year_built</th>\n",
       "      <th>medinc_lag</th>\n",
       "    </tr>\n",
       "  </thead>\n",
       "  <tbody>\n",
       "    <tr>\n",
       "      <th>0</th>\n",
       "      <td>2.777506</td>\n",
       "      <td>2.19</td>\n",
       "      <td>-82.642882</td>\n",
       "      <td>27.810570</td>\n",
       "      <td>4.596851</td>\n",
       "      <td>68229</td>\n",
       "      <td>54321</td>\n",
       "      <td>125200</td>\n",
       "      <td>46</td>\n",
       "      <td>0.0</td>\n",
       "      <td>...</td>\n",
       "      <td>None</td>\n",
       "      <td>1164</td>\n",
       "      <td>1386</td>\n",
       "      <td>1048</td>\n",
       "      <td>1</td>\n",
       "      <td>None</td>\n",
       "      <td>-82.642882</td>\n",
       "      <td>27.810570</td>\n",
       "      <td>1960</td>\n",
       "      <td>50723.304348</td>\n",
       "    </tr>\n",
       "    <tr>\n",
       "      <th>1</th>\n",
       "      <td>2.777506</td>\n",
       "      <td>2.19</td>\n",
       "      <td>-82.646179</td>\n",
       "      <td>27.811467</td>\n",
       "      <td>4.596851</td>\n",
       "      <td>68229</td>\n",
       "      <td>54321</td>\n",
       "      <td>125200</td>\n",
       "      <td>46</td>\n",
       "      <td>0.0</td>\n",
       "      <td>...</td>\n",
       "      <td>None</td>\n",
       "      <td>1672</td>\n",
       "      <td>2102</td>\n",
       "      <td>1486</td>\n",
       "      <td>1</td>\n",
       "      <td>None</td>\n",
       "      <td>-82.646179</td>\n",
       "      <td>27.811467</td>\n",
       "      <td>1986</td>\n",
       "      <td>54677.245614</td>\n",
       "    </tr>\n",
       "    <tr>\n",
       "      <th>2</th>\n",
       "      <td>2.777506</td>\n",
       "      <td>2.19</td>\n",
       "      <td>-82.644930</td>\n",
       "      <td>27.812377</td>\n",
       "      <td>4.596851</td>\n",
       "      <td>68229</td>\n",
       "      <td>54321</td>\n",
       "      <td>125200</td>\n",
       "      <td>46</td>\n",
       "      <td>0.0</td>\n",
       "      <td>...</td>\n",
       "      <td>None</td>\n",
       "      <td>1626</td>\n",
       "      <td>1872</td>\n",
       "      <td>1468</td>\n",
       "      <td>1</td>\n",
       "      <td>None</td>\n",
       "      <td>-82.644930</td>\n",
       "      <td>27.812377</td>\n",
       "      <td>1979</td>\n",
       "      <td>52524.114754</td>\n",
       "    </tr>\n",
       "    <tr>\n",
       "      <th>3</th>\n",
       "      <td>2.777506</td>\n",
       "      <td>2.19</td>\n",
       "      <td>-82.643034</td>\n",
       "      <td>27.813685</td>\n",
       "      <td>4.596851</td>\n",
       "      <td>68229</td>\n",
       "      <td>54321</td>\n",
       "      <td>125200</td>\n",
       "      <td>46</td>\n",
       "      <td>0.0</td>\n",
       "      <td>...</td>\n",
       "      <td>None</td>\n",
       "      <td>1855</td>\n",
       "      <td>2440</td>\n",
       "      <td>1680</td>\n",
       "      <td>1</td>\n",
       "      <td>None</td>\n",
       "      <td>-82.643034</td>\n",
       "      <td>27.813685</td>\n",
       "      <td>1967</td>\n",
       "      <td>47569.196078</td>\n",
       "    </tr>\n",
       "    <tr>\n",
       "      <th>4</th>\n",
       "      <td>2.777506</td>\n",
       "      <td>2.19</td>\n",
       "      <td>-82.644526</td>\n",
       "      <td>27.813679</td>\n",
       "      <td>4.596851</td>\n",
       "      <td>68229</td>\n",
       "      <td>54321</td>\n",
       "      <td>125200</td>\n",
       "      <td>46</td>\n",
       "      <td>0.0</td>\n",
       "      <td>...</td>\n",
       "      <td>None</td>\n",
       "      <td>1524</td>\n",
       "      <td>1841</td>\n",
       "      <td>1453</td>\n",
       "      <td>1</td>\n",
       "      <td>None</td>\n",
       "      <td>-82.644526</td>\n",
       "      <td>27.813679</td>\n",
       "      <td>1942</td>\n",
       "      <td>48720.263158</td>\n",
       "    </tr>\n",
       "  </tbody>\n",
       "</table>\n",
       "<p>5 rows × 103 columns</p>\n",
       "</div>"
      ],
      "text/plain": [
       "   AVE_FAM_SZ  AVE_HH_SZ  CentroidX  CentroidY  HS_PER_AC  MEDFINCOME  \\\n",
       "0    2.777506       2.19 -82.642882  27.810570   4.596851       68229   \n",
       "1    2.777506       2.19 -82.646179  27.811467   4.596851       68229   \n",
       "2    2.777506       2.19 -82.644930  27.812377   4.596851       68229   \n",
       "3    2.777506       2.19 -82.643034  27.813685   4.596851       68229   \n",
       "4    2.777506       2.19 -82.644526  27.813679   4.596851       68229   \n",
       "\n",
       "   MEDHHINC  MEDOOHVAL  MED_AGE  PCT_AMERI      ...       tif_flag_t  \\\n",
       "0     54321     125200       46        0.0      ...             None   \n",
       "1     54321     125200       46        0.0      ...             None   \n",
       "2     54321     125200       46        0.0      ...             None   \n",
       "3     54321     125200       46        0.0      ...             None   \n",
       "4     54321     125200       46        0.0      ...             None   \n",
       "\n",
       "   tot_effect  tot_gross_  tot_living  total_livi  views          x  \\\n",
       "0        1164        1386        1048           1   None -82.642882   \n",
       "1        1672        2102        1486           1   None -82.646179   \n",
       "2        1626        1872        1468           1   None -82.644930   \n",
       "3        1855        2440        1680           1   None -82.643034   \n",
       "4        1524        1841        1453           1   None -82.644526   \n",
       "\n",
       "           y  year_built    medinc_lag  \n",
       "0  27.810570        1960  50723.304348  \n",
       "1  27.811467        1986  54677.245614  \n",
       "2  27.812377        1979  52524.114754  \n",
       "3  27.813685        1967  47569.196078  \n",
       "4  27.813679        1942  48720.263158  \n",
       "\n",
       "[5 rows x 103 columns]"
      ]
     },
     "execution_count": 28,
     "metadata": {},
     "output_type": "execute_result"
    }
   ],
   "source": [
    "# Append this and write the shapefile\n",
    "stp_sales_2015['medinc_lag'] = yl.tolist()\n",
    "stp_sales_2015.to_file('./data/stpete_sales_2015.shp')\n",
    "stp_sales_2015.head()"
   ]
  },
  {
   "cell_type": "code",
   "execution_count": 20,
   "metadata": {
    "collapsed": false,
    "deletable": true,
    "editable": true
   },
   "outputs": [
    {
     "data": {
      "text/plain": [
       "0.51024209394158593"
      ]
     },
     "execution_count": 20,
     "metadata": {},
     "output_type": "execute_result"
    }
   ],
   "source": [
    "# Calculate the Moran's I for 2015 sales\n",
    "f = pysal.open(\"./data/stpete_sales_2015.dbf\")\n",
    "f.header\n",
    "y = np.array(f.by_col['price'])\n",
    "y = y.astype(int)\n",
    "mi = pysal.Moran(y, wt, two_tailed=False)\n",
    "mi.I"
   ]
  },
  {
   "cell_type": "code",
   "execution_count": 21,
   "metadata": {
    "collapsed": false,
    "deletable": true,
    "editable": true
   },
   "outputs": [
    {
     "data": {
      "text/plain": [
       "0.0001"
      ]
     },
     "execution_count": 21,
     "metadata": {},
     "output_type": "execute_result"
    }
   ],
   "source": [
    "# Calculate pseudo significance for Global Moran's I\n",
    "np.random.seed(12345)\n",
    "mir = pysal.Moran(y, wt, permutations = 9999)\n",
    "mir.p_sim"
   ]
  },
  {
   "cell_type": "code",
   "execution_count": 22,
   "metadata": {
    "collapsed": false,
    "deletable": true,
    "editable": true
   },
   "outputs": [
    {
     "data": {
      "text/plain": [
       "array([ 0.048,  0.138,  0.326, ...,  0.032,  0.144,  0.145])"
      ]
     },
     "execution_count": 22,
     "metadata": {},
     "output_type": "execute_result"
    }
   ],
   "source": [
    "# Calculate the LISA statistic for 2015 sales\n",
    "lm = pysal.Moran_Local(y,wt)\n",
    "lm.n\n",
    "# len(lm.Is)\n",
    "# lm.p_sim\n",
    "lm.Is\n",
    "lm.p_sim"
   ]
  },
  {
   "cell_type": "code",
   "execution_count": 23,
   "metadata": {
    "collapsed": false,
    "deletable": true,
    "editable": true
   },
   "outputs": [
    {
     "data": {
      "text/html": [
       "<div>\n",
       "<table border=\"1\" class=\"dataframe\">\n",
       "  <thead>\n",
       "    <tr style=\"text-align: right;\">\n",
       "      <th></th>\n",
       "      <th>AVE_FAM_SZ</th>\n",
       "      <th>AVE_HH_SZ</th>\n",
       "      <th>CentroidX</th>\n",
       "      <th>CentroidY</th>\n",
       "      <th>HS_PER_AC</th>\n",
       "      <th>MEDFINCOME</th>\n",
       "      <th>MEDHHINC</th>\n",
       "      <th>MEDOOHVAL</th>\n",
       "      <th>MED_AGE</th>\n",
       "      <th>PCT_AMERI</th>\n",
       "      <th>...</th>\n",
       "      <th>taxable_va</th>\n",
       "      <th>tif_flag_t</th>\n",
       "      <th>tot_effect</th>\n",
       "      <th>tot_gross_</th>\n",
       "      <th>tot_living</th>\n",
       "      <th>total_livi</th>\n",
       "      <th>views</th>\n",
       "      <th>x</th>\n",
       "      <th>y</th>\n",
       "      <th>year_built</th>\n",
       "    </tr>\n",
       "  </thead>\n",
       "  <tbody>\n",
       "    <tr>\n",
       "      <th>0</th>\n",
       "      <td>2.777506</td>\n",
       "      <td>2.19</td>\n",
       "      <td>-82.642882</td>\n",
       "      <td>27.810570</td>\n",
       "      <td>4.596851</td>\n",
       "      <td>68229</td>\n",
       "      <td>54321</td>\n",
       "      <td>125200</td>\n",
       "      <td>46</td>\n",
       "      <td>0.0</td>\n",
       "      <td>...</td>\n",
       "      <td>34513</td>\n",
       "      <td>None</td>\n",
       "      <td>1164</td>\n",
       "      <td>1386</td>\n",
       "      <td>1048</td>\n",
       "      <td>1</td>\n",
       "      <td>None</td>\n",
       "      <td>-82.642882</td>\n",
       "      <td>27.810570</td>\n",
       "      <td>1960</td>\n",
       "    </tr>\n",
       "    <tr>\n",
       "      <th>1</th>\n",
       "      <td>2.777506</td>\n",
       "      <td>2.19</td>\n",
       "      <td>-82.646179</td>\n",
       "      <td>27.811467</td>\n",
       "      <td>4.596851</td>\n",
       "      <td>68229</td>\n",
       "      <td>54321</td>\n",
       "      <td>125200</td>\n",
       "      <td>46</td>\n",
       "      <td>0.0</td>\n",
       "      <td>...</td>\n",
       "      <td>47710</td>\n",
       "      <td>None</td>\n",
       "      <td>1672</td>\n",
       "      <td>2102</td>\n",
       "      <td>1486</td>\n",
       "      <td>1</td>\n",
       "      <td>None</td>\n",
       "      <td>-82.646179</td>\n",
       "      <td>27.811467</td>\n",
       "      <td>1986</td>\n",
       "    </tr>\n",
       "    <tr>\n",
       "      <th>2</th>\n",
       "      <td>2.777506</td>\n",
       "      <td>2.19</td>\n",
       "      <td>-82.644930</td>\n",
       "      <td>27.812377</td>\n",
       "      <td>4.596851</td>\n",
       "      <td>68229</td>\n",
       "      <td>54321</td>\n",
       "      <td>125200</td>\n",
       "      <td>46</td>\n",
       "      <td>0.0</td>\n",
       "      <td>...</td>\n",
       "      <td>128088</td>\n",
       "      <td>None</td>\n",
       "      <td>1626</td>\n",
       "      <td>1872</td>\n",
       "      <td>1468</td>\n",
       "      <td>1</td>\n",
       "      <td>None</td>\n",
       "      <td>-82.644930</td>\n",
       "      <td>27.812377</td>\n",
       "      <td>1979</td>\n",
       "    </tr>\n",
       "    <tr>\n",
       "      <th>3</th>\n",
       "      <td>2.777506</td>\n",
       "      <td>2.19</td>\n",
       "      <td>-82.643034</td>\n",
       "      <td>27.813685</td>\n",
       "      <td>4.596851</td>\n",
       "      <td>68229</td>\n",
       "      <td>54321</td>\n",
       "      <td>125200</td>\n",
       "      <td>46</td>\n",
       "      <td>0.0</td>\n",
       "      <td>...</td>\n",
       "      <td>37048</td>\n",
       "      <td>None</td>\n",
       "      <td>1855</td>\n",
       "      <td>2440</td>\n",
       "      <td>1680</td>\n",
       "      <td>1</td>\n",
       "      <td>None</td>\n",
       "      <td>-82.643034</td>\n",
       "      <td>27.813685</td>\n",
       "      <td>1967</td>\n",
       "    </tr>\n",
       "    <tr>\n",
       "      <th>4</th>\n",
       "      <td>2.777506</td>\n",
       "      <td>2.19</td>\n",
       "      <td>-82.644526</td>\n",
       "      <td>27.813679</td>\n",
       "      <td>4.596851</td>\n",
       "      <td>68229</td>\n",
       "      <td>54321</td>\n",
       "      <td>125200</td>\n",
       "      <td>46</td>\n",
       "      <td>0.0</td>\n",
       "      <td>...</td>\n",
       "      <td>138960</td>\n",
       "      <td>None</td>\n",
       "      <td>1524</td>\n",
       "      <td>1841</td>\n",
       "      <td>1453</td>\n",
       "      <td>1</td>\n",
       "      <td>None</td>\n",
       "      <td>-82.644526</td>\n",
       "      <td>27.813679</td>\n",
       "      <td>1942</td>\n",
       "    </tr>\n",
       "  </tbody>\n",
       "</table>\n",
       "<p>5 rows × 102 columns</p>\n",
       "</div>"
      ],
      "text/plain": [
       "   AVE_FAM_SZ  AVE_HH_SZ  CentroidX  CentroidY  HS_PER_AC  MEDFINCOME  \\\n",
       "0    2.777506       2.19 -82.642882  27.810570   4.596851       68229   \n",
       "1    2.777506       2.19 -82.646179  27.811467   4.596851       68229   \n",
       "2    2.777506       2.19 -82.644930  27.812377   4.596851       68229   \n",
       "3    2.777506       2.19 -82.643034  27.813685   4.596851       68229   \n",
       "4    2.777506       2.19 -82.644526  27.813679   4.596851       68229   \n",
       "\n",
       "   MEDHHINC  MEDOOHVAL  MED_AGE  PCT_AMERI     ...      taxable_va  \\\n",
       "0     54321     125200       46        0.0     ...           34513   \n",
       "1     54321     125200       46        0.0     ...           47710   \n",
       "2     54321     125200       46        0.0     ...          128088   \n",
       "3     54321     125200       46        0.0     ...           37048   \n",
       "4     54321     125200       46        0.0     ...          138960   \n",
       "\n",
       "   tif_flag_t  tot_effect  tot_gross_  tot_living  total_livi  views  \\\n",
       "0        None        1164        1386        1048           1   None   \n",
       "1        None        1672        2102        1486           1   None   \n",
       "2        None        1626        1872        1468           1   None   \n",
       "3        None        1855        2440        1680           1   None   \n",
       "4        None        1524        1841        1453           1   None   \n",
       "\n",
       "           x          y  year_built  \n",
       "0 -82.642882  27.810570        1960  \n",
       "1 -82.646179  27.811467        1986  \n",
       "2 -82.644930  27.812377        1979  \n",
       "3 -82.643034  27.813685        1967  \n",
       "4 -82.644526  27.813679        1942  \n",
       "\n",
       "[5 rows x 102 columns]"
      ]
     },
     "execution_count": 23,
     "metadata": {},
     "output_type": "execute_result"
    }
   ],
   "source": [
    "# Add the lisa values to the 2015 sales as a new feature\n",
    "stp_sales_2015['lisa'] = lm.Is.tolist()\n",
    "stp_sales_2015.head()"
   ]
  },
  {
   "cell_type": "code",
   "execution_count": 24,
   "metadata": {
    "collapsed": true,
    "deletable": true,
    "editable": true
   },
   "outputs": [],
   "source": [
    "# Write it to the original shapefile\n",
    "stp_sales_2015.to_file('./data/stpete_sales_2015.shp')"
   ]
  }
 ],
 "metadata": {
  "kernelspec": {
   "display_name": "Python 3",
   "language": "python",
   "name": "python3"
  },
  "language_info": {
   "codemirror_mode": {
    "name": "ipython",
    "version": 3
   },
   "file_extension": ".py",
   "mimetype": "text/x-python",
   "name": "python",
   "nbconvert_exporter": "python",
   "pygments_lexer": "ipython3",
   "version": "3.5.3"
  }
 },
 "nbformat": 4,
 "nbformat_minor": 2
}
