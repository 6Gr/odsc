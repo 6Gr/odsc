{
 "cells": [
  {
   "cell_type": "markdown",
   "metadata": {
    "collapsed": true,
    "deletable": true,
    "editable": true
   },
   "source": [
    "# 6. Geospatial Feature Enrichment\n",
    "## 6.1 Joins\n",
    "#### 6.1.1 Introduction\n",
    "In addition to providing traditional RDBMS-style joins (e.g. inner joins) based on attributes or features, GIS have provided the ability to conduct spatial joins. Spatial joins append the attributes (features) of one spatial data set to the table of another based on shared spatial property. This is an incredibly powerful tool for enriching features and augmenting datasets. There are a number of ways to conduct spatial joins including:\n",
    "* Polygon overlays\n",
    "* Point in polygon operations\n",
    "* Geometry summaries"
   ]
  },
  {
   "cell_type": "markdown",
   "metadata": {
    "deletable": true,
    "editable": true
   },
   "source": [
    "#### 6.1.2 Spatial Join\n"
   ]
  },
  {
   "cell_type": "code",
   "execution_count": 1,
   "metadata": {
    "collapsed": false,
    "deletable": true,
    "editable": true
   },
   "outputs": [
    {
     "data": {
      "text/html": [
       "<div>\n",
       "<table border=\"1\" class=\"dataframe\">\n",
       "  <thead>\n",
       "    <tr style=\"text-align: right;\">\n",
       "      <th></th>\n",
       "      <th>ABOVE_POV</th>\n",
       "      <th>ABVE_BELW</th>\n",
       "      <th>ACRES</th>\n",
       "      <th>AGE_18_21</th>\n",
       "      <th>AGE_22_29</th>\n",
       "      <th>AGE_30_39</th>\n",
       "      <th>AGE_40_49</th>\n",
       "      <th>AGE_50_64</th>\n",
       "      <th>AGE_5_17</th>\n",
       "      <th>AGE_65_74</th>\n",
       "      <th>...</th>\n",
       "      <th>index_right</th>\n",
       "      <th>COUNTY</th>\n",
       "      <th>GLOBALID</th>\n",
       "      <th>LASTEDITOR</th>\n",
       "      <th>LASTUPDATE</th>\n",
       "      <th>NAME</th>\n",
       "      <th>OBJECTID_right</th>\n",
       "      <th>PRECINCTID</th>\n",
       "      <th>SHAPEAREA</th>\n",
       "      <th>SHAPELEN</th>\n",
       "    </tr>\n",
       "  </thead>\n",
       "  <tbody>\n",
       "    <tr>\n",
       "      <th>0</th>\n",
       "      <td>963</td>\n",
       "      <td>1054</td>\n",
       "      <td>527.425717</td>\n",
       "      <td>38</td>\n",
       "      <td>44</td>\n",
       "      <td>111</td>\n",
       "      <td>247</td>\n",
       "      <td>225</td>\n",
       "      <td>215</td>\n",
       "      <td>69</td>\n",
       "      <td>...</td>\n",
       "      <td>58</td>\n",
       "      <td>None</td>\n",
       "      <td>{CC5D1FAE-7D9E-453A-8E1E-6483BAE08101}</td>\n",
       "      <td>None</td>\n",
       "      <td>None</td>\n",
       "      <td>None</td>\n",
       "      <td>487</td>\n",
       "      <td>142</td>\n",
       "      <td>2.066930e+07</td>\n",
       "      <td>22124.386034</td>\n",
       "    </tr>\n",
       "    <tr>\n",
       "      <th>4</th>\n",
       "      <td>1013</td>\n",
       "      <td>1229</td>\n",
       "      <td>143.660613</td>\n",
       "      <td>53</td>\n",
       "      <td>67</td>\n",
       "      <td>383</td>\n",
       "      <td>161</td>\n",
       "      <td>216</td>\n",
       "      <td>108</td>\n",
       "      <td>153</td>\n",
       "      <td>...</td>\n",
       "      <td>58</td>\n",
       "      <td>None</td>\n",
       "      <td>{CC5D1FAE-7D9E-453A-8E1E-6483BAE08101}</td>\n",
       "      <td>None</td>\n",
       "      <td>None</td>\n",
       "      <td>None</td>\n",
       "      <td>487</td>\n",
       "      <td>142</td>\n",
       "      <td>2.066930e+07</td>\n",
       "      <td>22124.386034</td>\n",
       "    </tr>\n",
       "    <tr>\n",
       "      <th>220</th>\n",
       "      <td>728</td>\n",
       "      <td>811</td>\n",
       "      <td>169.539070</td>\n",
       "      <td>22</td>\n",
       "      <td>40</td>\n",
       "      <td>91</td>\n",
       "      <td>122</td>\n",
       "      <td>229</td>\n",
       "      <td>72</td>\n",
       "      <td>96</td>\n",
       "      <td>...</td>\n",
       "      <td>58</td>\n",
       "      <td>None</td>\n",
       "      <td>{CC5D1FAE-7D9E-453A-8E1E-6483BAE08101}</td>\n",
       "      <td>None</td>\n",
       "      <td>None</td>\n",
       "      <td>None</td>\n",
       "      <td>487</td>\n",
       "      <td>142</td>\n",
       "      <td>2.066930e+07</td>\n",
       "      <td>22124.386034</td>\n",
       "    </tr>\n",
       "    <tr>\n",
       "      <th>223</th>\n",
       "      <td>1729</td>\n",
       "      <td>1780</td>\n",
       "      <td>488.955949</td>\n",
       "      <td>17</td>\n",
       "      <td>242</td>\n",
       "      <td>181</td>\n",
       "      <td>324</td>\n",
       "      <td>429</td>\n",
       "      <td>288</td>\n",
       "      <td>150</td>\n",
       "      <td>...</td>\n",
       "      <td>58</td>\n",
       "      <td>None</td>\n",
       "      <td>{CC5D1FAE-7D9E-453A-8E1E-6483BAE08101}</td>\n",
       "      <td>None</td>\n",
       "      <td>None</td>\n",
       "      <td>None</td>\n",
       "      <td>487</td>\n",
       "      <td>142</td>\n",
       "      <td>2.066930e+07</td>\n",
       "      <td>22124.386034</td>\n",
       "    </tr>\n",
       "    <tr>\n",
       "      <th>224</th>\n",
       "      <td>1755</td>\n",
       "      <td>1870</td>\n",
       "      <td>303.610095</td>\n",
       "      <td>65</td>\n",
       "      <td>201</td>\n",
       "      <td>125</td>\n",
       "      <td>134</td>\n",
       "      <td>546</td>\n",
       "      <td>263</td>\n",
       "      <td>300</td>\n",
       "      <td>...</td>\n",
       "      <td>58</td>\n",
       "      <td>None</td>\n",
       "      <td>{CC5D1FAE-7D9E-453A-8E1E-6483BAE08101}</td>\n",
       "      <td>None</td>\n",
       "      <td>None</td>\n",
       "      <td>None</td>\n",
       "      <td>487</td>\n",
       "      <td>142</td>\n",
       "      <td>2.066930e+07</td>\n",
       "      <td>22124.386034</td>\n",
       "    </tr>\n",
       "  </tbody>\n",
       "</table>\n",
       "<p>5 rows × 215 columns</p>\n",
       "</div>"
      ],
      "text/plain": [
       "     ABOVE_POV  ABVE_BELW       ACRES  AGE_18_21  AGE_22_29  AGE_30_39  \\\n",
       "0          963       1054  527.425717         38         44        111   \n",
       "4         1013       1229  143.660613         53         67        383   \n",
       "220        728        811  169.539070         22         40         91   \n",
       "223       1729       1780  488.955949         17        242        181   \n",
       "224       1755       1870  303.610095         65        201        125   \n",
       "\n",
       "     AGE_40_49  AGE_50_64  AGE_5_17  AGE_65_74      ...       index_right  \\\n",
       "0          247        225       215         69      ...                58   \n",
       "4          161        216       108        153      ...                58   \n",
       "220        122        229        72         96      ...                58   \n",
       "223        324        429       288        150      ...                58   \n",
       "224        134        546       263        300      ...                58   \n",
       "\n",
       "     COUNTY                                GLOBALID  LASTEDITOR  LASTUPDATE  \\\n",
       "0      None  {CC5D1FAE-7D9E-453A-8E1E-6483BAE08101}        None        None   \n",
       "4      None  {CC5D1FAE-7D9E-453A-8E1E-6483BAE08101}        None        None   \n",
       "220    None  {CC5D1FAE-7D9E-453A-8E1E-6483BAE08101}        None        None   \n",
       "223    None  {CC5D1FAE-7D9E-453A-8E1E-6483BAE08101}        None        None   \n",
       "224    None  {CC5D1FAE-7D9E-453A-8E1E-6483BAE08101}        None        None   \n",
       "\n",
       "     NAME  OBJECTID_right  PRECINCTID     SHAPEAREA      SHAPELEN  \n",
       "0    None             487         142  2.066930e+07  22124.386034  \n",
       "4    None             487         142  2.066930e+07  22124.386034  \n",
       "220  None             487         142  2.066930e+07  22124.386034  \n",
       "223  None             487         142  2.066930e+07  22124.386034  \n",
       "224  None             487         142  2.066930e+07  22124.386034  \n",
       "\n",
       "[5 rows x 215 columns]"
      ]
     },
     "execution_count": 1,
     "metadata": {},
     "output_type": "execute_result"
    }
   ],
   "source": [
    "# Conduct a spatial join using Geopandas\n",
    "%matplotlib inline\n",
    "import geopandas as gpd\n",
    "cenacs = gpd.read_file('./data/census/stpete_cenacs_2015.shp')\n",
    "vote = gpd.read_file('./data/voter/pin_vote.shp')\n",
    "cenacs_vote = gpd.sjoin(cenacs, vote, how=\"inner\", op='intersects')\n",
    "cenacs_vote.head()"
   ]
  },
  {
   "cell_type": "code",
   "execution_count": 2,
   "metadata": {
    "collapsed": false,
    "deletable": true,
    "editable": true
   },
   "outputs": [
    {
     "data": {
      "text/plain": [
       "<matplotlib.axes._subplots.AxesSubplot at 0x7f48f60056a0>"
      ]
     },
     "execution_count": 2,
     "metadata": {},
     "output_type": "execute_result"
    },
    {
     "data": {
      "image/png": "[encoded data removed]",
      "text/plain": [
       "<matplotlib.figure.Figure at 0x7f492cdf2588>"
      ]
     },
     "metadata": {},
     "output_type": "display_data"
    }
   ],
   "source": [
    "cenacs_vote.plot()"
   ]
  }
 ],
 "metadata": {
  "anaconda-cloud": {},
  "kernelspec": {
   "display_name": "Python 3",
   "language": "python",
   "name": "python3"
  },
  "language_info": {
   "codemirror_mode": {
    "name": "ipython",
    "version": 3
   },
   "file_extension": ".py",
   "mimetype": "text/x-python",
   "name": "python",
   "nbconvert_exporter": "python",
   "pygments_lexer": "ipython3",
   "version": "3.5.3"
  }
 },
 "nbformat": 4,
 "nbformat_minor": 1
}
