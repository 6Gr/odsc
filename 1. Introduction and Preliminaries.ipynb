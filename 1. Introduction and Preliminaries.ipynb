{
 "cells": [
  {
   "cell_type": "markdown",
   "metadata": {
    "deletable": true,
    "editable": true
   },
   "source": [
    "# 1. Introduction and Preliminaries\n",
    "## 1.1 Installation\n",
    "#### 1.1.1 Anaconda\n",
    "\n",
    "<img src=\"./img/logo-horizontal-large.svg\" width=\"300\" height=\"300\"/></img>\n",
    "\n",
    "\n",
    "The fastest way to install all the libraries we need for the workshop is through Anaconda. I am running these on notebooks on Anaconda 4.3.0 and Python 3.6. You can find the installers here:\n",
    "\n",
    "[Anaconda 4.3.0](https://www.continuum.io/downloads)\n",
    "\n",
    "Anaconda installs most of the packages and dependencies for this workshop, but it can be useful to force `conda` to use the conda-forge channel to ensure the correct dependency versions are installed.\n",
    "\n",
    "`$ sudo gedit ~/.condarc`\n",
    "\n",
    "then add \n",
    "\n",
    "```\n",
    "channels:\n",
    " - conda-forge\n",
    " - defaults\n",
    " ```\n",
    " \n",
    "`$ conda update --all`"
   ]
  },
  {
   "cell_type": "markdown",
   "metadata": {
    "deletable": true,
    "editable": true
   },
   "source": [
    "#### 1.1.2 Quantum GIS (QGIS)\n",
    "\n",
    "<img src=\"./img/qgis.jpg\" width=\"100\" height=\"300\"/></img>\n",
    "\n",
    "Quantum GIS [(QGIS)](http://www.qgis.org/en/site/forusers/download.html) is a free and open Source Geographic Information System (GIS) that I recommend using for rapidly visualizing geospatial data. There are a number of geospatial visualization tools available in Python that are built on top of matplotlib and we will use the plot function in Geopandas later in the workshop. In addition to quickly visualizing a wide variety of geospatial data types, QGIS offers a number of other benefits:\n",
    "* Built on GDAL/OGR\n",
    "* Python scripting framework\n",
    "* Multiple OS distributions"
   ]
  },
  {
   "cell_type": "markdown",
   "metadata": {
    "deletable": true,
    "editable": true
   },
   "source": [
    "#### 1.1.3 Notebooks and Data\n",
    "\n",
    "https://github.com/kas673/odsc\n",
    "\n",
    "`$ git clone https://github.com/kas673/odsc.git`"
   ]
  },
  {
   "cell_type": "markdown",
   "metadata": {
    "deletable": true,
    "editable": true
   },
   "source": [
    "#### 1.1.4 GeoDa (Optional)\n",
    "\n",
    "[GeoDa](http://geodacenter.github.io/) is the graphical user interface for PySAL. "
   ]
  },
  {
   "cell_type": "markdown",
   "metadata": {
    "deletable": true,
    "editable": true
   },
   "source": [
    "## 1.2 Agenda\n",
    "#### 1.2.1 Philosophy\n",
    "\n",
    "We are lucky to have so many open source Python libraries available to us now. Many of the tools we will use are based on other libraries (e.g. GDAL/OGR). These are the guidelines I will try to follow in this workshop:\n",
    "\n",
    "* Path of least resistance\n",
    "    * Use GIS to visualize when needed\n",
    "    * Use highest level package (e.g. Geopandas v. GDAL/OGR)\n",
    "    * Use the least amount of code with simple Python examples\n",
    "* Share, share, share\n",
    "    * Packages\n",
    "    * Textbooks\n",
    "    * Web resources\n",
    "* Replicate common ML workflows\n",
    "    * Vector geospatial data (tabular)\n",
    "    * DataFrames and Series\n",
    "    * sklearn\n",
    "\n",
    "\n",
    "#### 1.2.2 Outline\n",
    "\n",
    "This workshop is organized into eight modules which I will try to spend approximately 30 minutes each on. Each module is strucutred with 5min-15min of instruction and examples and approximately 15 minutes of working on the exercise. We'll walk through the exercise line-by-line and the final exercise notebooks will be posted to my github account after the workshop is finished this evening. Here are the the topics we'll cover:\n",
    "\n",
    "* Geospatial Data Formats and I/O\n",
    "    * GDAL/OGR\n",
    "    * File-based formats\n",
    "    * Database formats\n",
    "* Exploratory Spatial Data Analysis (ESDA)\n",
    "    * PySAL\n",
    "    * Spatial Weights Matrix\n",
    "    * Spatial Autocorrelation\n",
    "* Spatial Smoothing, Regionalization, and Neighborhood Analysis\n",
    "    * Spatial Smoothing\n",
    "    * Regionalization\n",
    "    * Neighborhood Analysis\n",
    "* Geospatial Feature Engineering\n",
    "    * Geometry-based Features\n",
    "    * Topologically-based Features\n",
    "    * Set theoretic Features\n",
    "* Geospatial Feature Enrichment\n",
    "    * Joins\n",
    "    * Geocoding\n",
    "    * Zonal Statistics\n",
    "* Spatial Econometric Approaches\n",
    "    * Spatial Lag\n",
    "    * Spatial Error\n",
    "    * spreg\n",
    "* Traditional ML Approaches\n",
    "    * Spatial Group Partitioning\n",
    "    * Tree-based methods\n",
    "    * Two-way partial dependence on location"
   ]
  },
  {
   "cell_type": "markdown",
   "metadata": {
    "deletable": true,
    "editable": true
   },
   "source": [
    "#### 1.2.3 Target Audience\n",
    "\n",
    "This workshop should be useful for a wide range of audiences. If you have basic Python programming skills and are interested in geospatial analysis and machine learning this workshop will be a good starting point. Here are some good target users:\n",
    "* Beginners in machine learning and geosptial analysis\n",
    "* Experienced machine learners that have never used geospatial data\n",
    "* GIS Analysts that primarily conduct analysis in traditional Desktop GIS (ArcGIS, QGIS, etc.)\n",
    "* Experienced Geospatial developers with little ML experience\n"
   ]
  },
  {
   "cell_type": "markdown",
   "metadata": {
    "deletable": true,
    "editable": true
   },
   "source": [
    "## 1.3 Background\n",
    "#### 1.3.1 About Me\n",
    "* Customer Facing Data Scientist at DataRobot\n",
    "    * Work with account executives to ensure customer success\n",
    "    * Work with the product team to address geospatial reqs on roadmap\n",
    "    * Help customers with geospatial use cases utilize DataRobot\n",
    "* Adjunct Professor of Geographic Information Systems at Penn State\n",
    "    * Teach Graduate level GIS course (ArcGIS, QGIS, GeoDa, Carto)\n",
    "    * Vector and raster analyses\n",
    "    * Exposure to open source\n",
    "* Applied Spatial Analysis\n",
    "    * Experienced in point pattern analysis\n",
    "    * Spatial econometrics and geostatistics\n",
    "    * Wide range of software and formats\n",
    "    \n",
    "#### 1.3.2 What I'm Not About\n",
    "\n",
    "* Computer vision, neural networks, and deep learning\n",
    "* Expert Python programming\n",
    "* Hadoop"
   ]
  },
  {
   "cell_type": "markdown",
   "metadata": {
    "deletable": true,
    "editable": true
   },
   "source": [
    "#### 1.3.3 GIS\n",
    "\n",
    "A GIS is a computer-based system to aid in the collection, maintenance, storage, analysis, output, and distribution of spatial data and information (Bolstad 2016). The traditional behemoth in the GIS industry has been [ESRI](http://www.esri.com/) and their flagship product ArcGIS. QGIS has become more popular recently and replicates many of the functions in ArcGIS Desktop. The popularity of web mapping applications and geotagged device data has also seen the rise in specialized SaaS products ([Mapbox](https://www.mapbox.com/) and [CARTO](https://carto.com/)) and open source front-end libraries such as [leaflet.js](http://leafletjs.com/) and [turf.js](http://turfjs.org/).\n",
    "\n",
    "A word of caution:\n",
    "\n",
    "<img src=\"./img/sidewalkballet_gis.png\" width=\"600\" height=\"300\"/></img>\n",
    "\n",
    "Terminology:\n",
    "\n",
    "Machine Learning - Feature\n",
    "\n",
    "Statistics - Variable\n",
    "\n",
    "Geospatial - Attribute\n",
    "\n",
    "A feature can also be used in geospatial-speak to talk about an individual geometry as we'll see in the next module."
   ]
  }
 ],
 "metadata": {
  "kernelspec": {
   "display_name": "Python 3",
   "language": "python",
   "name": "python3"
  },
  "language_info": {
   "codemirror_mode": {
    "name": "ipython",
    "version": 3
   },
   "file_extension": ".py",
   "mimetype": "text/x-python",
   "name": "python",
   "nbconvert_exporter": "python",
   "pygments_lexer": "ipython3",
   "version": "3.5.3"
  }
 },
 "nbformat": 4,
 "nbformat_minor": 2
}
