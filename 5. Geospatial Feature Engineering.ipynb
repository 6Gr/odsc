{
 "cells": [
  {
   "cell_type": "markdown",
   "metadata": {
    "collapsed": true,
    "deletable": true,
    "editable": true
   },
   "source": [
    "# 5. Geospatial Feature Engineering\n",
    "## 5. 1 Geometry-based Features\n",
    "#### 5.1.1 Introduction\n",
    "The key difference between data stored in a vector geospatial data format and a typical container is the geometry information associated with each record. These geometries can yield numerous features that can be derived using many of the python libraries we have introduced."
   ]
  },
  {
   "cell_type": "code",
   "execution_count": 4,
   "metadata": {
    "collapsed": false,
    "deletable": true,
    "editable": true,
    "scrolled": true
   },
   "outputs": [
    {
     "name": "stdout",
     "output_type": "stream",
     "text": [
      "231\n"
     ]
    }
   ],
   "source": [
    "# Calculate the centroid of a polygon using GDAL\n",
    "# Open a shapefile and count the number of features\n",
    "import os\n",
    "from osgeo import ogr\n",
    "shapefile = r\"./data/stpete_cenacs_2014.shp\"\n",
    "driver = ogr.GetDriverByName('ESRI Shapefile')\n",
    "stp_cenacs_shp = driver.Open(shapefile, 0)\n",
    "layer = stp_cenacs_shp.GetLayer()\n",
    "featureCount = layer.GetFeatureCount()\n",
    "print(featureCount)"
   ]
  },
  {
   "cell_type": "code",
   "execution_count": 6,
   "metadata": {
    "collapsed": false,
    "deletable": true,
    "editable": true,
    "scrolled": true
   },
   "outputs": [
    {
     "data": {
      "text/plain": [
       "0      POINT (-82.64460340992798 27.77349632538053)\n",
       "1      POINT (-82.64050409872189 27.74741123031002)\n",
       "2      POINT (-82.72448661028325 27.81456343988163)\n",
       "3      POINT (-82.63320766938909 27.78315466341828)\n",
       "4      POINT (-82.64449871777177 27.74483614133431)\n",
       "5      POINT (-82.63366109389644 27.79023466138687)\n",
       "6       POINT (-82.6210673485746 27.79953611065644)\n",
       "7      POINT (-82.63767357044038 27.81142977480609)\n",
       "8       POINT (-82.6297866121223 27.82527758634592)\n",
       "9      POINT (-82.63661456386382 27.83952274461063)\n",
       "10     POINT (-82.69644093792138 27.76548985410117)\n",
       "11     POINT (-82.68820622906841 27.76554735928254)\n",
       "12     POINT (-82.68245069423548 27.76758975238138)\n",
       "13     POINT (-82.69369988880059 27.76959107636587)\n",
       "14     POINT (-82.68281061403852 27.77372697730922)\n",
       "15     POINT (-82.65091382538431 27.81028176240951)\n",
       "16     POINT (-82.68486068620103 27.77868961822771)\n",
       "17     POINT (-82.64920499797378 27.77208990680466)\n",
       "18     POINT (-82.68963128251409 27.77369170849651)\n",
       "19      POINT (-82.6509124738937 27.81753882236004)\n",
       "20     POINT (-82.65164862860304 27.77444546737442)\n",
       "21     POINT (-82.65092837170494 27.82252418352575)\n",
       "22     POINT (-82.69646197299056 27.77367209590436)\n",
       "23      POINT (-82.6755863717644 27.76236652720379)\n",
       "24     POINT (-82.69510267765783 27.77865459747854)\n",
       "25     POINT (-82.66512353433527 27.77376612315661)\n",
       "26     POINT (-82.65094205401758 27.82618533237748)\n",
       "27     POINT (-82.65105296867402 27.83939782372001)\n",
       "28      POINT (-82.66533693963804 27.7662012340565)\n",
       "29     POINT (-82.70694926179837 27.76716967742876)\n",
       "                           ...                     \n",
       "201    POINT (-82.74905614218437 27.78651477714876)\n",
       "202    POINT (-82.62571087628524 27.81726714648417)\n",
       "203     POINT (-82.6200051817404 27.78744755517879)\n",
       "204    POINT (-82.63388134046838 27.78661002705746)\n",
       "205    POINT (-82.59124894403058 27.81566965422053)\n",
       "206    POINT (-82.63466064406056 27.79543663138826)\n",
       "207      POINT (-82.7023818953198 27.7858898013818)\n",
       "208    POINT (-82.64263762038539 27.79575149384342)\n",
       "209    POINT (-82.63845743651551 27.80499546133007)\n",
       "210     POINT (-82.6387561535745 27.80126897772985)\n",
       "211    POINT (-82.61146212721782 27.79314067591896)\n",
       "212    POINT (-82.62145234590336 27.80835628490222)\n",
       "213    POINT (-82.63034241715724 27.80935766893189)\n",
       "214     POINT (-82.72139618908156 27.6919329672686)\n",
       "215    POINT (-82.69860491135354 27.67103945954131)\n",
       "216    POINT (-82.64292584227557 27.70602006795286)\n",
       "217    POINT (-82.63422616180752 27.71114971266118)\n",
       "218    POINT (-82.64229539532245 27.71581470797813)\n",
       "219    POINT (-82.65100299294224 27.84532634964341)\n",
       "220     POINT (-82.65490949731544 27.9186708798513)\n",
       "221     POINT (-82.6835839754737 27.79551077902642)\n",
       "222    POINT (-82.65936336445769 27.84773722686667)\n",
       "223    POINT (-82.65596936753357 27.85157524478139)\n",
       "224    POINT (-82.73965764575239 27.76011785000061)\n",
       "225    POINT (-82.68418528265202 27.72839765059538)\n",
       "226    POINT (-82.65772143194522 27.70298357183904)\n",
       "227     POINT (-82.67526340508954 27.7504394721755)\n",
       "228     POINT (-82.72536076209033 27.7645318888802)\n",
       "229    POINT (-82.63376435587791 27.75029476408396)\n",
       "230    POINT (-82.65023124887406 27.70307373945553)\n",
       "dtype: object"
      ]
     },
     "execution_count": 6,
     "metadata": {},
     "output_type": "execute_result"
    }
   ],
   "source": [
    "# Calculate the centroid of a polygon using Geopandas\n",
    "import geopandas as gpd\n",
    "stp_cenacs = gpd.read_file('./data/stpete_cenacs_2014.shp')\n",
    "stp_cenacs.centroid"
   ]
  },
  {
   "cell_type": "markdown",
   "metadata": {
    "deletable": true,
    "editable": true
   },
   "source": [
    "> *Show centroid calculation and centroids in QGIS*"
   ]
  },
  {
   "cell_type": "markdown",
   "metadata": {
    "deletable": true,
    "editable": true
   },
   "source": [
    "#### 5.1.2 Size\n",
    "Size properties of spatial geometries can yield additional features associated with a geometry that can serve as stand alone predictors or as normalization features in areal objects with arbitrary sizes."
   ]
  },
  {
   "cell_type": "code",
   "execution_count": 7,
   "metadata": {
    "collapsed": false,
    "deletable": true,
    "editable": true,
    "scrolled": true
   },
   "outputs": [
    {
     "data": {
      "text/plain": [
       "0      0.000027\n",
       "1      0.000048\n",
       "2      0.000104\n",
       "3      0.000039\n",
       "4      0.000029\n",
       "5      0.000037\n",
       "6      0.000181\n",
       "7      0.000053\n",
       "8      0.000066\n",
       "9      0.000031\n",
       "10     0.000038\n",
       "11     0.000052\n",
       "12     0.000044\n",
       "13     0.000033\n",
       "14     0.000037\n",
       "15     0.000060\n",
       "16     0.000049\n",
       "17     0.000018\n",
       "18     0.000038\n",
       "19     0.000059\n",
       "20     0.000037\n",
       "21     0.000022\n",
       "22     0.000037\n",
       "23     0.000067\n",
       "24     0.000043\n",
       "25     0.000030\n",
       "26     0.000038\n",
       "27     0.000061\n",
       "28     0.000099\n",
       "29     0.000064\n",
       "         ...   \n",
       "201    0.000043\n",
       "202    0.000137\n",
       "203    0.000087\n",
       "204    0.000033\n",
       "205    0.000239\n",
       "206    0.000055\n",
       "207    0.000051\n",
       "208    0.000060\n",
       "209    0.000063\n",
       "210    0.000058\n",
       "211    0.000234\n",
       "212    0.000113\n",
       "213    0.000061\n",
       "214    0.000081\n",
       "215    0.002243\n",
       "216    0.000089\n",
       "217    0.000168\n",
       "218    0.000060\n",
       "219    0.000036\n",
       "220    0.003283\n",
       "221    0.000060\n",
       "222    0.000016\n",
       "223    0.000131\n",
       "224    0.000042\n",
       "225    0.000157\n",
       "226    0.000084\n",
       "227    0.000042\n",
       "228    0.000069\n",
       "229    0.000031\n",
       "230    0.000087\n",
       "dtype: float64"
      ]
     },
     "execution_count": 7,
     "metadata": {},
     "output_type": "execute_result"
    }
   ],
   "source": [
    "# Calculate the area of a polygon using Geopandas\n",
    "stp_cenacs.area"
   ]
  },
  {
   "cell_type": "code",
   "execution_count": 8,
   "metadata": {
    "collapsed": false,
    "deletable": true,
    "editable": true,
    "scrolled": true
   },
   "outputs": [
    {
     "data": {
      "text/plain": [
       "<matplotlib.axes._subplots.AxesSubplot at 0x7f5323eb5cf8>"
      ]
     },
     "execution_count": 8,
     "metadata": {},
     "output_type": "execute_result"
    },
    {
     "data": {
      "image/png": "[encoded data removed]",
      "text/plain": [
       "<matplotlib.figure.Figure at 0x7f5323eacbe0>"
      ]
     },
     "metadata": {},
     "output_type": "display_data"
    }
   ],
   "source": [
    "# Reproject a set of polygon features and calculate area in metric units\n",
    "%matplotlib inline\n",
    "stp_cenacs.crs\n",
    "stp_cenacs.plot()"
   ]
  },
  {
   "cell_type": "code",
   "execution_count": 9,
   "metadata": {
    "collapsed": false,
    "deletable": true,
    "editable": true,
    "scrolled": true
   },
   "outputs": [
    {
     "data": {
      "text/plain": [
       "<matplotlib.axes._subplots.AxesSubplot at 0x7f531e638be0>"
      ]
     },
     "execution_count": 9,
     "metadata": {},
     "output_type": "execute_result"
    },
    {
     "data": {
      "image/png": "[encoded data removed]",
      "text/plain": [
       "<matplotlib.figure.Figure at 0x7f532410a0b8>"
      ]
     },
     "metadata": {},
     "output_type": "display_data"
    }
   ],
   "source": [
    "stp_cenacs_albers = stp_cenacs.to_crs({'init': 'epsg:32617'})\n",
    "stp_cenacs_albers.plot()"
   ]
  },
  {
   "cell_type": "code",
   "execution_count": 10,
   "metadata": {
    "collapsed": false,
    "deletable": true,
    "editable": true,
    "scrolled": true
   },
   "outputs": [
    {
     "data": {
      "text/plain": [
       "0        299.908088\n",
       "1        523.311408\n",
       "2       1134.461468\n",
       "3        421.694947\n",
       "4        321.626306\n",
       "5        400.867875\n",
       "6       1978.403138\n",
       "7        581.285609\n",
       "8        719.445766\n",
       "9        338.808122\n",
       "10       409.649819\n",
       "11       568.149564\n",
       "12       479.330335\n",
       "13       361.139326\n",
       "14       406.767927\n",
       "15       649.766121\n",
       "16       530.780826\n",
       "17       201.554203\n",
       "18       411.941963\n",
       "19       647.625634\n",
       "20       404.349155\n",
       "21       242.066340\n",
       "22       407.183522\n",
       "23       727.002378\n",
       "24       468.209879\n",
       "25       325.588223\n",
       "26       410.106235\n",
       "27       665.570130\n",
       "28      1085.393411\n",
       "29       695.284667\n",
       "           ...     \n",
       "201      471.732468\n",
       "202     1495.209190\n",
       "203      947.066573\n",
       "204      355.556321\n",
       "205     2614.270551\n",
       "206      595.697169\n",
       "207      561.431578\n",
       "208      650.244410\n",
       "209      685.991832\n",
       "210      632.516185\n",
       "211     2553.606120\n",
       "212     1228.460028\n",
       "213      670.715125\n",
       "214      881.465709\n",
       "215    24518.210392\n",
       "216      972.268225\n",
       "217     1833.811542\n",
       "218      652.229127\n",
       "219      389.766064\n",
       "220    35810.747408\n",
       "221      655.240947\n",
       "222      177.274731\n",
       "223     1429.086983\n",
       "224      455.708440\n",
       "225     1713.643531\n",
       "226      920.562908\n",
       "227      458.843693\n",
       "228      758.115798\n",
       "229      333.720306\n",
       "230      949.936920\n",
       "dtype: float64"
      ]
     },
     "execution_count": 10,
     "metadata": {},
     "output_type": "execute_result"
    }
   ],
   "source": [
    "stp_cenacs_albers.area/1000"
   ]
  },
  {
   "cell_type": "markdown",
   "metadata": {
    "deletable": true,
    "editable": true
   },
   "source": [
    "#### 5.1.3 Shape"
   ]
  },
  {
   "cell_type": "markdown",
   "metadata": {
    "deletable": true,
    "editable": true
   },
   "source": [
    "## 5.2 Topologically-based Features\n",
    "#### 5.2.1 Neighbors and connectivity"
   ]
  },
  {
   "cell_type": "markdown",
   "metadata": {
    "deletable": true,
    "editable": true
   },
   "source": [
    "#### 5.2.2 Edges"
   ]
  },
  {
   "cell_type": "markdown",
   "metadata": {
    "deletable": true,
    "editable": true
   },
   "source": [
    "#### 5.2.3 Construction"
   ]
  },
  {
   "cell_type": "markdown",
   "metadata": {
    "deletable": true,
    "editable": true
   },
   "source": [
    "## 5.3 Set-theoretic Features\n",
    "#### 5.3.1 Intersection\n"
   ]
  },
  {
   "cell_type": "code",
   "execution_count": null,
   "metadata": {
    "collapsed": false,
    "deletable": true,
    "editable": true
   },
   "outputs": [],
   "source": [
    "stp_bnd = gpd.read_file('st_pete_bnd.shp')\n",
    "ax = stp_bnd.plot(color='red')\n",
    "stp_cenacs.plot(ax=ax, color='green')"
   ]
  },
  {
   "cell_type": "code",
   "execution_count": null,
   "metadata": {
    "collapsed": false,
    "deletable": true,
    "editable": true
   },
   "outputs": [],
   "source": [
    "stp_intersect = gpd.overlay(stp_bnd, stp_cenacs, how='intersection')"
   ]
  },
  {
   "cell_type": "code",
   "execution_count": null,
   "metadata": {
    "collapsed": false,
    "deletable": true,
    "editable": true
   },
   "outputs": [],
   "source": [
    "stp_intersect\n",
    "stp_intersect.plot()"
   ]
  }
 ],
 "metadata": {
  "anaconda-cloud": {},
  "kernelspec": {
   "display_name": "Python 3",
   "language": "python",
   "name": "python3"
  },
  "language_info": {
   "codemirror_mode": {
    "name": "ipython",
    "version": 3
   },
   "file_extension": ".py",
   "mimetype": "text/x-python",
   "name": "python",
   "nbconvert_exporter": "python",
   "pygments_lexer": "ipython3",
   "version": "3.5.3"
  }
 },
 "nbformat": 4,
 "nbformat_minor": 2
}
