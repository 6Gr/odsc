{
 "cells": [
  {
   "cell_type": "code",
   "execution_count": 6,
   "metadata": {
    "collapsed": true,
    "deletable": true,
    "editable": true
   },
   "outputs": [],
   "source": [
    "# Load the St. Pete Parcels shapefile (stp_parcels.shp) using OGR\n",
    "from osgeo import ogr\n",
    "import os\n",
    "shapefile = r\"stpete_parcels.shp\"\n",
    "driver = ogr.GetDriverByName('ESRI Shapefile')\n",
    "stp_parcels_shp = driver.Open(shapefile, 0)"
   ]
  },
  {
   "cell_type": "code",
   "execution_count": 7,
   "metadata": {
    "collapsed": false,
    "deletable": true,
    "editable": true
   },
   "outputs": [
    {
     "name": "stdout",
     "output_type": "stream",
     "text": [
      "105423\n"
     ]
    }
   ],
   "source": [
    "# Determine the number and type of features in the file\n",
    "layer = stp_parcels_shp.GetLayer()\n",
    "featureCount = layer.GetFeatureCount()\n",
    "print(featureCount)"
   ]
  },
  {
   "cell_type": "code",
   "execution_count": 13,
   "metadata": {
    "collapsed": false,
    "deletable": true,
    "editable": true
   },
   "outputs": [
    {
     "name": "stdout",
     "output_type": "stream",
     "text": [
      "1000 loops, best of 3: 1.81 ms per loop\n"
     ]
    }
   ],
   "source": [
    "# Compare the I/O performance\n",
    "# GDAL\n",
    "% timeit stp_parcels_shp = driver.Open(shapefile, 0)"
   ]
  },
  {
   "cell_type": "code",
   "execution_count": 15,
   "metadata": {
    "collapsed": false,
    "deletable": true,
    "editable": true
   },
   "outputs": [
    {
     "name": "stdout",
     "output_type": "stream",
     "text": [
      "100 loops, best of 3: 1.97 ms per loop\n"
     ]
    }
   ],
   "source": [
    "# fiona\n",
    "import fiona\n",
    "% timeit stp_parcels_f = fiona.open(\"stpete_parcels.shp\")"
   ]
  },
  {
   "cell_type": "code",
   "execution_count": 18,
   "metadata": {
    "collapsed": false,
    "deletable": true,
    "editable": true
   },
   "outputs": [
    {
     "name": "stdout",
     "output_type": "stream",
     "text": [
      "1 loop, best of 3: 9.15 s per loop\n"
     ]
    }
   ],
   "source": [
    "# geopandas\n",
    "import geopandas as gpd\n",
    "% timeit stp_parcels_gp = gpd.read_file('stpete_parcels.shp')"
   ]
  },
  {
   "cell_type": "code",
   "execution_count": 20,
   "metadata": {
    "collapsed": false,
    "deletable": true,
    "editable": true
   },
   "outputs": [
    {
     "name": "stdout",
     "output_type": "stream",
     "text": [
      "10 loops, best of 3: 27.6 ms per loop\n"
     ]
    }
   ],
   "source": [
    "# pysal\n",
    "import pysal\n",
    "%timeit stp_parcels_ps = pysal.open('stpete_parcels.shp')"
   ]
  },
  {
   "cell_type": "code",
   "execution_count": 25,
   "metadata": {
    "collapsed": false,
    "deletable": true,
    "editable": true
   },
   "outputs": [
    {
     "name": "stderr",
     "output_type": "stream",
     "text": [
      "WARNING:Fiona:CPLE_NotSupported in b'dataset /home/tankofvines/Dropbox/workspace/odsc/stp_parcels.geojson does not support layer creation option ENCODING'\n"
     ]
    }
   ],
   "source": [
    "# Load parcels and write to geojson\n",
    "stp_parcels_gp.to_file('stp_parcels.geojson', driver=\"GeoJSON\")"
   ]
  },
  {
   "cell_type": "code",
   "execution_count": 26,
   "metadata": {
    "collapsed": false,
    "deletable": true,
    "editable": true
   },
   "outputs": [
    {
     "data": {
      "text/plain": [
       "100655224"
      ]
     },
     "execution_count": 26,
     "metadata": {},
     "output_type": "execute_result"
    }
   ],
   "source": [
    "# Check the size of the geojson\n",
    "os.path.getsize('stp_parcels.geojson')"
   ]
  },
  {
   "cell_type": "code",
   "execution_count": 24,
   "metadata": {
    "collapsed": false,
    "deletable": true,
    "editable": true
   },
   "outputs": [
    {
     "data": {
      "text/plain": [
       "33208544"
      ]
     },
     "execution_count": 24,
     "metadata": {},
     "output_type": "execute_result"
    }
   ],
   "source": [
    "# Check the size of the shapefile\n",
    "os.path.getsize('stpete_parcels.shp')"
   ]
  },
  {
   "cell_type": "code",
   "execution_count": 29,
   "metadata": {
    "collapsed": false,
    "deletable": true,
    "editable": true
   },
   "outputs": [
    {
     "name": "stderr",
     "output_type": "stream",
     "text": [
      "WARNING:Fiona:CPLE_NotSupported in b'dataset /home/tankofvines/Dropbox/workspace/odsc/stp_cenacs_2014.geojson does not support layer creation option ENCODING'\n"
     ]
    },
    {
     "data": {
      "text/plain": [
       "1451968"
      ]
     },
     "execution_count": 29,
     "metadata": {},
     "output_type": "execute_result"
    }
   ],
   "source": [
    "# Load and check size of the shapefile\n",
    "stp_cenacs_gp = gpd.read_file('stpete_cenacs_2014.shp')\n",
    "stp_cenacs_gp.to_file('stp_cenacs_2014.geojson', driver=\"GeoJSON\")\n",
    "os.path.getsize('stp_cenacs_2014.geojson')"
   ]
  }
 ],
 "metadata": {
  "kernelspec": {
   "display_name": "Python 3",
   "language": "python",
   "name": "python3"
  },
  "language_info": {
   "codemirror_mode": {
    "name": "ipython",
    "version": 3
   },
   "file_extension": ".py",
   "mimetype": "text/x-python",
   "name": "python",
   "nbconvert_exporter": "python",
   "pygments_lexer": "ipython3",
   "version": "3.5.3"
  }
 },
 "nbformat": 4,
 "nbformat_minor": 2
}
