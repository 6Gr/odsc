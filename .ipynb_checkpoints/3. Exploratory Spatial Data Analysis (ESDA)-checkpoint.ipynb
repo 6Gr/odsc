{
 "cells": [
  {
   "cell_type": "markdown",
   "metadata": {
    "deletable": true,
    "editable": true
   },
   "source": [
    "# 3. Exploratory Spatial Data Analysis (ESDA)\n",
    "## 3.1 Python Spatial Abstraction Library (PySAL)"
   ]
  },
  {
   "cell_type": "markdown",
   "metadata": {
    "deletable": true,
    "editable": true
   },
   "source": [
    "#### 3.1.1 Overview\n",
    "[PySAL](http://pysal.readthedocs.io/en/latest/) is a Python library that enables users to incorporate a number of spatial analytical methods into their applications including:\n",
    "* Creating spatial weights matrices\n",
    "* Assessing spatial autocorrelation\n",
    "* Spatial econometric modeling"
   ]
  },
  {
   "cell_type": "markdown",
   "metadata": {
    "deletable": true,
    "editable": true
   },
   "source": [
    "#### 3.1.2 Installation and Packaging\n",
    "\n",
    "`conda install pysal`\n",
    "\n",
    "`pip install -U pysal`"
   ]
  },
  {
   "cell_type": "markdown",
   "metadata": {
    "deletable": true,
    "editable": true
   },
   "source": [
    "#### 3.1.3 Basic Usage\n",
    "PySAL has its own geosptial I/O tools that can read and write many of the formats that GDAL/OGR can. It provides additional support for a number of spatials weights formats."
   ]
  },
  {
   "cell_type": "code",
   "execution_count": 1,
   "metadata": {
    "collapsed": false,
    "deletable": true,
    "editable": true
   },
   "outputs": [
    {
     "data": {
      "text/plain": [
       "231"
      ]
     },
     "execution_count": 1,
     "metadata": {},
     "output_type": "execute_result"
    }
   ],
   "source": [
    "# Read a shapefile\n",
    "import pysal\n",
    "# pysal.open.check()\n",
    "shp = pysal.open('./data/census/stpete_cenacs_2015.shp')\n",
    "len(shp)"
   ]
  },
  {
   "cell_type": "markdown",
   "metadata": {
    "deletable": true,
    "editable": true
   },
   "source": [
    "> *_Demonstrate opening a shapefile in GeoDa_*"
   ]
  },
  {
   "cell_type": "markdown",
   "metadata": {
    "deletable": true,
    "editable": true
   },
   "source": [
    "## 3.2 Spatial Weights Matrix\n",
    "#### 3.2.1 Introduction\n",
    "Spatial weights matrices form the basis for a number of spatial analytical calculations. They come in a variety of types including:\n",
    "* Contiguity-based weights\n",
    "* Distance-based weights\n",
    "* k-nearest neighbor weights\n",
    "* Distance band weights\n",
    "* Kernel weights\n",
    "\n",
    "For this workshop we will focus on contiguity-based weights that are typically used for polygon geospatial models and can be constructed using a variety of topological criteria:\n",
    "* Queen contiguity (share boundary and/or vertex)\n",
    "* Rook contiguity (share boundary)\n",
    "* Bishop contiguity (share vertex only)\n",
    "* Lagged contiguity\n",
    "\n",
    "<img src=\"./img/rook.png\" width=\"300\" height=\"300\"/></img>\n",
    "<p><center>*Old Northeast St. Pete census blocks illustrating Rook-contiguity*<center></p>\n",
    "\n",
    "<img src=\"./img/queen.png\" width=\"300\" height=\"300\"/></img>\n",
    "<p><center>*Old Northeast St. Pete census blocks illustrating Queen-contiguity*<center></p>"
   ]
  },
  {
   "cell_type": "markdown",
   "metadata": {
    "deletable": true,
    "editable": true
   },
   "source": [
    "#### 3.2.2 Creating the weights matrix (W)\n",
    "The easiest way to create a weights matrix in PySAL is to create it directly from the file. The weights have a number of properties that make it easy to characterize contiguity within the data including the number of neighbors at a certain location and the histogram of neighbors."
   ]
  },
  {
   "cell_type": "code",
   "execution_count": 2,
   "metadata": {
    "collapsed": false,
    "deletable": true,
    "editable": true
   },
   "outputs": [
    {
     "data": {
      "text/plain": [
       "[1, 2, 3, 6, 10, 14]"
      ]
     },
     "execution_count": 2,
     "metadata": {},
     "output_type": "execute_result"
    }
   ],
   "source": [
    "# Create a weights matrix with rook contiguity from a shapefile\n",
    "w = pysal.rook_from_shapefile(\"./data/census/stpete_cenacs_2015.shp\")\n",
    "w.weights[0]\n",
    "w.neighbors[5]"
   ]
  },
  {
   "cell_type": "code",
   "execution_count": 3,
   "metadata": {
    "collapsed": false,
    "deletable": true,
    "editable": true
   },
   "outputs": [
    {
     "data": {
      "text/plain": [
       "[(1, 1),\n",
       " (2, 2),\n",
       " (3, 10),\n",
       " (4, 20),\n",
       " (5, 48),\n",
       " (6, 57),\n",
       " (7, 58),\n",
       " (8, 21),\n",
       " (9, 8),\n",
       " (10, 2),\n",
       " (11, 2),\n",
       " (12, 0),\n",
       " (13, 0),\n",
       " (14, 1),\n",
       " (15, 0),\n",
       " (16, 0),\n",
       " (17, 1)]"
      ]
     },
     "execution_count": 3,
     "metadata": {},
     "output_type": "execute_result"
    }
   ],
   "source": [
    "# Create a weights matrix with queen contiguity from a shapefile\n",
    "w = pysal.queen_from_shapefile(\"./data/census/stpete_cenacs_2015.shp\")\n",
    "w.histogram"
   ]
  },
  {
   "cell_type": "code",
   "execution_count": 4,
   "metadata": {
    "collapsed": true,
    "deletable": true,
    "editable": true
   },
   "outputs": [],
   "source": [
    "# Export a W as a .gal file\n",
    "gal = pysal.open('./data/census/stpete_cenacs_2015.gal','w')\n",
    "gal.write(w)\n",
    "gal.close()"
   ]
  },
  {
   "cell_type": "markdown",
   "metadata": {
    "deletable": true,
    "editable": true
   },
   "source": [
    "> Demonstrate creating a W matrix in GeoDa"
   ]
  },
  {
   "cell_type": "markdown",
   "metadata": {
    "deletable": true,
    "editable": true
   },
   "source": [
    "#### 3.2.3 Higher Order Contiguity\n",
    "\n",
    "Some use cases require the calculation of higher order contiguity. For example, analysis of pollution from a smoke stack which avoids immediate neighborhoods, but may pollute neighborhoods further away as particulates settle. PySAL makes it easy to construct a higher order weights matrix from an existing one."
   ]
  },
  {
   "cell_type": "code",
   "execution_count": 5,
   "metadata": {
    "collapsed": false,
    "deletable": true,
    "editable": true
   },
   "outputs": [
    {
     "data": {
      "text/plain": [
       "[(4, 2),\n",
       " (5, 2),\n",
       " (6, 6),\n",
       " (7, 5),\n",
       " (8, 14),\n",
       " (9, 16),\n",
       " (10, 20),\n",
       " (11, 20),\n",
       " (12, 19),\n",
       " (13, 27),\n",
       " (14, 17),\n",
       " (15, 17),\n",
       " (16, 15),\n",
       " (17, 12),\n",
       " (18, 7),\n",
       " (19, 5),\n",
       " (20, 6),\n",
       " (21, 9),\n",
       " (22, 4),\n",
       " (23, 1),\n",
       " (24, 1),\n",
       " (25, 1),\n",
       " (26, 2),\n",
       " (27, 0),\n",
       " (28, 0),\n",
       " (29, 1),\n",
       " (30, 0),\n",
       " (31, 1),\n",
       " (32, 0),\n",
       " (33, 1)]"
      ]
     },
     "execution_count": 5,
     "metadata": {},
     "output_type": "execute_result"
    }
   ],
   "source": [
    "# Create a higher order weights matrix from an existing W\n",
    "# Issues ceating this without reading directly from the .gal\n",
    "w = pysal.weights.Queen.from_file('./data/census/stpete_cenacs_2015.gal')\n",
    "w2 = pysal.higher_order(w, 2)\n",
    "w2.histogram"
   ]
  },
  {
   "cell_type": "markdown",
   "metadata": {
    "deletable": true,
    "editable": true
   },
   "source": [
    "#### 3.2.4 Spatial Lag\n",
    "Spatial lag is a new variable created based on an absolute or weighted average (row standarized W) "
   ]
  },
  {
   "cell_type": "code",
   "execution_count": 6,
   "metadata": {
    "collapsed": false,
    "deletable": true,
    "editable": true
   },
   "outputs": [
    {
     "data": {
      "text/plain": [
       "array([  526135.,   233965.,   275383.,   375029.,   287964.,   423450.,\n",
       "         263165.,   247640.,   210497.,   270351.,   344603.,   331851.,\n",
       "         336902.,   300853.,   274127.,   228833.,   289431.,   135777.,\n",
       "         377851.,   321967.,   413276.,   348732.,   255116.,   337399.,\n",
       "         255593.,   411820.,   420203.,   399202.,   342894.,   488076.,\n",
       "         393826.,   228450.,   372177.,   332736.,   232078.,   502282.,\n",
       "         149555.,   483465.,   185496.,   412462.,   251819.,   305925.,\n",
       "         322775.,   207482.,  1187391.,   176068.,    46765.,   420611.,\n",
       "         209844.,   232717.,   163337.,   196814.,   135316.,   368255.,\n",
       "         170266.,   198499.,   132426.,   208330.,   221998.,   181924.,\n",
       "         442427.,    96957.,   153638.,   455600.,   573338.,   317967.,\n",
       "         347957.,   235340.,   404991.,   389061.,   443302.,   393004.,\n",
       "         118735.,   631616.,   283565.,   264506.,   251256.,   368086.,\n",
       "         268564.,   283998.,   255837.,   319642.,   256736.,   262843.,\n",
       "         377638.,   226322.,   224543.,   286938.,   316284.,   182381.,\n",
       "         353174.,   422630.,   164529.,   241196.,   244870.,   218145.,\n",
       "         176779.,   146777.,   274515.,   118978.,   223443.,   166955.,\n",
       "         184953.,   193834.,   213911.,   220028.,   203623.,   235774.,\n",
       "         237872.,   179910.,   156888.,   228157.,   228859.,   167025.,\n",
       "         154194.,   144308.,   132266.,    81604.,   123545.,   183827.,\n",
       "         135065.,    82883.,   155281.,   170096.,   275324.,   162955.,\n",
       "         167682.,   203947.,   105153.,   122439.,   138429.,   244178.,\n",
       "         231255.,   187478.,   171845.,   229986.,   258796.,   293073.,\n",
       "         181106.,   126903.,   249919.,   188733.,   104948.,   303537.,\n",
       "         264311.,   108888.,   136180.,   120995.,   303974.,   281069.,\n",
       "         208627.,   274140.,   244215.,   239958.,   403565.,   385962.,\n",
       "         238966.,   358705.,   362781.,   280638.,   480281.,   330186.,\n",
       "         329086.,   422676.,   205012.,   239450.,   453527.,   154793.,\n",
       "         329011.,   426018.,   440913.,   195110.,   242961.,   415560.,\n",
       "         269036.,   369425.,   331687.,   337321.,   279417.,   235814.,\n",
       "         263777.,   474883.,   289159.,   298005.,   280360.,   280737.,\n",
       "         205945.,   314476.,   355598.,   307494.,   280056.,   436081.,\n",
       "         480648.,   203797.,   386562.,   157610.,   269525.,   216232.,\n",
       "         292484.,   316867.,   310923.,   326285.,   283626.,   210853.,\n",
       "         234533.,   315905.,   145055.,   131167.,   329575.,   430145.,\n",
       "         305825.,   158110.,   290505.,   189536.,   324203.,   288347.,\n",
       "         492453.,   388989.,   527316.,   378647.,   385191.,   446658.,\n",
       "         393855.,   619867.,   482695.,   346752.,   473087.,   578848.,\n",
       "         431955.,   232413.,   316331.])"
      ]
     },
     "execution_count": 6,
     "metadata": {},
     "output_type": "execute_result"
    }
   ],
   "source": [
    "# Calculate the spatial lag for Median household income\n",
    "# Binary weights matrix will produce cumulative weights of neighborhood values\n",
    "import numpy as np\n",
    "f = pysal.open(\"./data/census/stpete_cenacs_2015.dbf\")\n",
    "f.header\n",
    "y = np.array(f.by_col['MEDHHINC'])\n",
    "yl = pysal.lag_spatial(w,y)\n",
    "yl"
   ]
  },
  {
   "cell_type": "markdown",
   "metadata": {
    "deletable": true,
    "editable": true
   },
   "source": [
    "<img src=\"./img/medhhinc_wavg.png\" width=\"1000\" height=\"1000\"/></img>"
   ]
  },
  {
   "cell_type": "code",
   "execution_count": 8,
   "metadata": {
    "collapsed": false,
    "deletable": true,
    "editable": true
   },
   "outputs": [
    {
     "data": {
      "text/plain": [
       "array([  75162.14285714,   46793.        ,   45897.16666667,\n",
       "         53575.57142857,   57592.8       ,   47050.        ,\n",
       "         37595.        ,   41273.33333333,   42099.4       ,\n",
       "         45058.5       ,   49229.        ,   47407.28571429,\n",
       "         48128.85714286,   50142.16666667,   45687.83333333,\n",
       "        114416.5       ,   48238.5       ,   45259.        ,\n",
       "         53978.71428571,   45995.28571429,   51659.5       ,\n",
       "         49818.85714286,   42519.33333333,   48199.85714286,\n",
       "         51118.6       ,   68636.66666667,   60029.        ,\n",
       "         49900.25      ,   68578.8       ,   81346.        ,\n",
       "         49228.25      ,   45690.        ,   33834.27272727,\n",
       "         47533.71428571,   33154.        ,   71754.57142857,\n",
       "         29911.        ,   60433.125     ,   26499.42857143,\n",
       "         68743.66666667,   25181.9       ,   50987.5       ,\n",
       "         53795.83333333,   51870.5       ,   69846.52941176,\n",
       "         44017.        ,   46765.        ,   46734.55555556,\n",
       "         41968.8       ,   58179.25      ,   81668.5       ,\n",
       "         49203.5       ,   45105.33333333,   52607.85714286,\n",
       "         42566.5       ,   39699.8       ,   44142.        ,\n",
       "         52082.5       ,   55499.5       ,   36384.8       ,\n",
       "         55303.375     ,   32319.        ,   25606.33333333,\n",
       "         65085.71428571,   81905.42857143,   52994.5       ,\n",
       "         69591.4       ,   78446.66666667,   67498.5       ,\n",
       "         64843.5       ,   73883.66666667,   78600.8       ,\n",
       "         39578.33333333,   45115.42857143,   47260.83333333,\n",
       "         37786.57142857,   50251.2       ,   61347.66666667,\n",
       "         44760.66666667,   47333.        ,   42639.5       ,\n",
       "         53273.66666667,   42789.33333333,   43807.16666667,\n",
       "         53948.28571429,   37720.33333333,   44908.6       ,\n",
       "         40991.14285714,   45183.42857143,   36476.2       ,\n",
       "         44146.75      ,   52828.75      ,   54843.        ,\n",
       "         48239.2       ,   40811.66666667,   54536.25      ,\n",
       "         35355.8       ,   48925.66666667,   39216.42857143,\n",
       "         29744.5       ,   27930.375     ,   27825.83333333,\n",
       "         30825.5       ,   32305.66666667,   35651.83333333,\n",
       "         31432.57142857,   29089.        ,   47154.8       ,\n",
       "         33981.71428571,   44977.5       ,   26148.        ,\n",
       "         45631.4       ,   45771.8       ,   27837.5       ,\n",
       "         25699.        ,   24051.33333333,   22044.33333333,\n",
       "         20401.        ,   24709.        ,   26261.        ,\n",
       "         27013.        ,   27627.66666667,   22183.        ,\n",
       "         28349.33333333,   39332.        ,   23279.28571429,\n",
       "         33536.4       ,   22660.77777778,   26288.25      ,\n",
       "         24487.8       ,   34607.25      ,   30522.25      ,\n",
       "         38542.5       ,   37495.6       ,   28640.83333333,\n",
       "         38331.        ,   51759.2       ,   32563.66666667,\n",
       "         25872.28571429,   25380.6       ,   41653.16666667,\n",
       "         26961.85714286,   20989.6       ,   43362.42857143,\n",
       "         37758.71428571,   27222.        ,   22696.66666667,\n",
       "         24199.        ,   43424.85714286,   40152.71428571,\n",
       "         34771.16666667,   39162.85714286,   48843.        ,\n",
       "         59989.5       ,   57652.14285714,   55137.42857143,\n",
       "         39827.66666667,   44838.125     ,   72556.2       ,\n",
       "         56127.6       ,   68611.57142857,   55031.        ,\n",
       "         47012.28571429,   60382.28571429,   51253.        ,\n",
       "         47890.        ,   64789.57142857,   51597.66666667,\n",
       "         47001.57142857,   53252.25      ,   55114.125     ,\n",
       "         39022.        ,   48592.2       ,   46173.33333333,\n",
       "         53807.2       ,   52775.        ,   47383.85714286,\n",
       "         42165.125     ,   55883.4       ,   39302.33333333,\n",
       "         52755.4       ,   52764.77777778,   57831.8       ,\n",
       "         42572.14285714,   40051.42857143,   46789.5       ,\n",
       "         41189.        ,   52412.66666667,   50799.71428571,\n",
       "         43927.71428571,   56011.2       ,   54510.125     ,\n",
       "         43695.27272727,   29113.85714286,   42951.33333333,\n",
       "         39402.5       ,   44920.83333333,   36038.66666667,\n",
       "         36560.5       ,   39608.375     ,   44417.57142857,\n",
       "         46612.14285714,   47271.        ,   35142.16666667,\n",
       "         39088.83333333,   39488.125     ,   29011.        ,\n",
       "         26233.4       ,   32957.5       ,   47793.88888889,\n",
       "         43689.28571429,   22587.14285714,   58101.        ,\n",
       "         37907.2       ,   64840.6       ,   72086.75      ,\n",
       "         61556.625     ,   77797.8       ,   75330.85714286,\n",
       "         47330.875     ,   55027.28571429,   63808.28571429,\n",
       "         78771.        ,   77483.375     ,   80449.16666667,\n",
       "         57792.        ,   59135.875     ,   96474.66666667,\n",
       "         71992.5       ,   58103.25      ,   79082.75      ])"
      ]
     },
     "execution_count": 8,
     "metadata": {},
     "output_type": "execute_result"
    }
   ],
   "source": [
    "# Calculate spatial lag with a row standardized W\n",
    "# Spatial lag variable represents a weighted average\n",
    "w.transform = 'r'\n",
    "yr = pysal.lag_spatial(w,y)\n",
    "yr"
   ]
  },
  {
   "cell_type": "markdown",
   "metadata": {
    "deletable": true,
    "editable": true
   },
   "source": [
    "<img src=\"./img/medhhinc_cavg.png\" width=\"1000\" height=\"1000\"/></img>"
   ]
  },
  {
   "cell_type": "markdown",
   "metadata": {
    "deletable": true,
    "editable": true
   },
   "source": [
    "## 3.3 Spatial Autocorrelation\n",
    "#### 3.3.1 Overview\n",
    "Spatial autocorrelation originates from values distributed over space that are not the product of a random process. The oft quoted Waldo Tobler established the 1st Law of Geography which states that:\n",
    "\n",
    ">Everything is related to everything else, but near things are more related than distant things.\n",
    "\n",
    "Spatial autocorrelation can be measured as a global or local effect in a spatial dataset and can also be both positive and negative.\n",
    "\n",
    "<img src=\"./img/sa.jpg\" width=\"600\" height=\"300\"/></img>\n"
   ]
  },
  {
   "cell_type": "markdown",
   "metadata": {
    "deletable": true,
    "editable": true
   },
   "source": [
    "#### 3.3.2 Measures of Global Spatial Autocorrelation\n",
    "PySAL provides a number of global spatial autocorrelation measures. We'll focus on arguably the most widely used statistic called Moran's I named after Pat Moran. The statistic can be calculated using the following formula:\n",
    "\n",
    "<img src=\"./img/moransI.png\" width=\"300\" height=\"300\"/></img>\n",
    "\n",
    "where ...\n",
    "\n",
    "Let's caluclate Moran's I for median household income values in St. Petersburg, Fl using PySAL."
   ]
  },
  {
   "cell_type": "code",
   "execution_count": 9,
   "metadata": {
    "collapsed": false,
    "deletable": true,
    "editable": true
   },
   "outputs": [
    {
     "data": {
      "text/plain": [
       "0.28135221461193555"
      ]
     },
     "execution_count": 9,
     "metadata": {},
     "output_type": "execute_result"
    }
   ],
   "source": [
    "# Calculate Moran's I using a column and weights matrix\n",
    "w.transform = 'b'\n",
    "mi = pysal.Moran(y, w, two_tailed=False)\n",
    "mi.I\n",
    "# mi.EI"
   ]
  },
  {
   "cell_type": "code",
   "execution_count": 10,
   "metadata": {
    "collapsed": false,
    "deletable": true,
    "editable": true
   },
   "outputs": [
    {
     "data": {
      "text/plain": [
       "0.0001"
      ]
     },
     "execution_count": 10,
     "metadata": {},
     "output_type": "execute_result"
    }
   ],
   "source": [
    "# Calculate the pseudo p-value for Moran's I\n",
    "np.random.seed(12345)\n",
    "mir = pysal.Moran(y, w, permutations = 9999)\n",
    "mir.p_sim"
   ]
  },
  {
   "cell_type": "markdown",
   "metadata": {
    "deletable": true,
    "editable": true
   },
   "source": [
    "> *Show Moran's I  in GeoDa"
   ]
  },
  {
   "cell_type": "markdown",
   "metadata": {
    "deletable": true,
    "editable": true
   },
   "source": [
    "#### 3.3.3 Local Spatial Autocorrelation\n",
    "Local indicators of spatial autocorrelation assess the spatial autocorrelation at each observation. "
   ]
  },
  {
   "cell_type": "code",
   "execution_count": 11,
   "metadata": {
    "collapsed": false,
    "deletable": true,
    "editable": true
   },
   "outputs": [
    {
     "data": {
      "text/plain": [
       "array([  1.19195720e+00,   1.40708980e-04,  -2.08709293e-02,\n",
       "        -1.03863487e-01,  -2.56059590e-01,   3.47594333e-05,\n",
       "        -2.18000788e-01,   1.79471402e-01,  -2.58146509e-01,\n",
       "         4.00700307e-02,   3.49524736e-03,   4.99360946e-03,\n",
       "        -2.51708808e-03,  -9.40303383e-04,  -1.99250515e-02,\n",
       "        -1.19592062e+00,   1.97783850e-02,  -4.65263247e-02,\n",
       "        -1.69376668e-01,  -2.29759446e-02,  -8.12841678e-02,\n",
       "         9.46348286e-03,   4.31063445e-02,  -1.87424112e-03,\n",
       "        -2.63852826e-02,   5.53106315e-01,  -2.52576339e-01,\n",
       "         3.39377028e-02,   4.35727065e-01,   2.58599901e+00,\n",
       "        -4.43553455e-02,   1.95347484e-02,   1.21626155e-01,\n",
       "        -2.60597529e-03,   5.14456322e-01,   1.68261093e+00,\n",
       "        -5.40866280e-01,   2.50888761e-01,   9.15167454e-01,\n",
       "         1.78229863e+00,   5.81758288e-01,   1.95119064e-01,\n",
       "         2.61653566e-01,  -1.16939058e-01,  -1.74510813e+00,\n",
       "         4.73641696e-02,   4.74379187e-03,   1.13941203e-04,\n",
       "        -3.01490591e-02,   8.27142581e-01,   1.16917633e+00,\n",
       "        -1.02824621e-02,   1.45959770e-01,   3.74982954e-02,\n",
       "         2.16743174e-01,   1.56160084e-01,   5.34648970e-02,\n",
       "        -1.22036543e-01,  -1.35494342e-01,   4.37920943e-01,\n",
       "        -4.38078571e-01,   3.86615344e-01,   5.03623732e-01,\n",
       "         7.11984882e-01,   2.11862197e-01,   1.29272648e-01,\n",
       "         3.20817062e+00,   5.08393523e-01,   2.62933854e+00,\n",
       "         1.15306431e+00,   6.44565957e-01,  -2.41423181e+00,\n",
       "         9.51355608e-02,  -1.45050802e-02,   3.37940317e-03,\n",
       "        -5.53548644e-01,   1.68035305e-01,   1.80772063e-01,\n",
       "        -4.33116895e-02,  -2.55012492e-03,   1.13620995e-01,\n",
       "         5.58105059e-02,   8.99315369e-02,   9.56588198e-02,\n",
       "        -9.12783393e-02,  -1.72971884e-01,   4.91909998e-02,\n",
       "         2.97510723e-02,  -4.84036333e-02,   3.67490161e-01,\n",
       "         4.94176611e-02,   2.77738918e-01,   1.50527883e-01,\n",
       "         2.83320907e-02,   2.96189133e-02,  -6.41946107e-02,\n",
       "        -4.03357378e-01,   2.23780766e-02,   1.25160095e-01,\n",
       "         9.69084000e-01,   7.50405782e-01,   9.15552544e-01,\n",
       "         3.82030648e-01,   5.72032207e-01,   2.60049863e-01,\n",
       "         7.42240778e-02,   4.55385466e-01,  -3.75807852e-04,\n",
       "         3.87009214e-01,   7.60781910e-02,   6.83570764e-01,\n",
       "         4.13643917e-02,   3.01780653e-02,   4.82220970e-01,\n",
       "         1.10404471e+00,   1.06297553e+00,   1.03823239e+00,\n",
       "         1.31973716e+00,   7.45179480e-01,   8.36796019e-01,\n",
       "         8.08068878e-01,   1.16101905e+00,   6.83143226e-01,\n",
       "         9.71506452e-01,   3.12236025e-01,   7.93482467e-01,\n",
       "        -3.28667957e-01,   5.25205834e-01,   1.19911058e+00,\n",
       "         9.61321605e-01,   9.35955762e-02,   4.91960073e-01,\n",
       "        -7.50747707e-03,   7.27601918e-01,  -1.19726374e-01,\n",
       "        -1.98765563e-01,  -3.62621692e-01,   2.37241268e-01,\n",
       "         4.68838263e-01,   3.34657798e-01,   4.09822582e-01,\n",
       "         4.32451634e-01,   9.70640689e-01,   2.79176904e-01,\n",
       "         7.07491048e-01,   3.02826995e-01,   3.47670224e-01,\n",
       "        -6.60660737e-01,   9.21530504e-02,   8.99742056e-02,\n",
       "        -9.02311375e-02,   1.39015098e-01,   4.16678124e-03,\n",
       "         1.30335943e-01,  -5.28647327e-02,  -1.43664268e-02,\n",
       "        -4.03681503e-01,   6.24269089e-02,  -5.55746737e-01,\n",
       "         1.04236815e+00,  -1.03644329e-01,   8.39821116e-01,\n",
       "        -4.92795624e-05,   1.81026724e-01,  -3.70607294e-02,\n",
       "        -1.58121063e-02,   2.41868138e-01,   6.56713669e-01,\n",
       "         2.07466065e-04,  -1.33677890e-01,  -1.25850791e-01,\n",
       "        -1.68733457e-01,   2.92586363e-03,  -4.89430138e-03,\n",
       "         8.63521865e-02,   2.37873044e-01,   1.45101941e-02,\n",
       "        -7.82150755e-02,  -7.44670857e-02,   1.08245950e-01,\n",
       "         7.91863770e-02,   2.54164596e-01,   1.58286619e-01,\n",
       "         3.94724885e-02,  -1.35635787e-01,  -2.31573123e-03,\n",
       "        -1.51169162e-02,  -4.41918251e-02,  -1.49638747e-02,\n",
       "        -1.43228550e-01,   5.17019710e-02,   1.50609447e-01,\n",
       "         7.95018863e-02,  -4.41980785e-01,  -1.92645128e-02,\n",
       "         2.64718832e-01,   5.92889951e-02,  -5.87170985e-03,\n",
       "         2.07345493e-02,   6.29264807e-02,   8.49808252e-02,\n",
       "         2.03135248e-03,  -1.78201588e-03,  -3.89380837e-01,\n",
       "         8.65274608e-02,   7.56463613e-02,   2.19199397e-01,\n",
       "         1.20848587e-01,   6.06331166e-01,  -2.79380721e-02,\n",
       "         2.54193914e-01,   6.62851241e-01,  -1.57628332e-01,\n",
       "         9.00987632e-02,  -1.37131149e-01,   1.13142253e+00,\n",
       "         2.32303110e+00,   1.44219431e+00,   1.69746835e+00,\n",
       "         6.71852100e-03,   1.31484570e-01,  -8.91382679e-02,\n",
       "         2.00137468e+00,   2.20969885e+00,   9.07191826e-01,\n",
       "         3.55267070e-01,   2.25096165e-01,   1.88839777e+00,\n",
       "         2.51958113e+00,   1.51955829e+00,   1.88719471e+00])"
      ]
     },
     "execution_count": 11,
     "metadata": {},
     "output_type": "execute_result"
    }
   ],
   "source": [
    "# Calculate LISA for a dataset\n",
    "lm = pysal.Moran_Local(y,w)\n",
    "lm.n\n",
    "len(lm.Is)\n",
    "# lm.p_sim\n",
    "lm.Is"
   ]
  },
  {
   "cell_type": "markdown",
   "metadata": {
    "deletable": true,
    "editable": true
   },
   "source": [
    "<img src=\"./img/medhhinc_lisa.png\" width=\"1000\" height=\"1000\"/></img>"
   ]
  }
 ],
 "metadata": {
  "anaconda-cloud": {},
  "kernelspec": {
   "display_name": "Python 3",
   "language": "python",
   "name": "python3"
  },
  "language_info": {
   "codemirror_mode": {
    "name": "ipython",
    "version": 3
   },
   "file_extension": ".py",
   "mimetype": "text/x-python",
   "name": "python",
   "nbconvert_exporter": "python",
   "pygments_lexer": "ipython3",
   "version": "3.5.3"
  }
 },
 "nbformat": 4,
 "nbformat_minor": 2
}
