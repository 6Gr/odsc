{
 "cells": [
  {
   "cell_type": "markdown",
   "metadata": {
    "deletable": true,
    "editable": true
   },
   "source": [
    "# 2. Geospatial Data Formats and IO\n",
    "## 2.1 Geospatial Data Models\n",
    "#### 2.1.1 Vector Data Model\n",
    "Vector geospatial data has commonly been broken down into points, lines, and polygons to model real world entities. In some cases the type of model to use is obvious. In other cases it is not. For example, depending on the spatial scale you are conducting analysis a house could be modeled as a point or a polygon. Let's take a closer look:\n",
    "\n",
    "* Points\n",
    "    * Large-scale (fine)\n",
    "        * events\n",
    "        * fire hydrants\n",
    "        * wells\n",
    "    * Small-scale (broad)\n",
    "        * cities\n",
    "        * pollution source\n",
    "        * centroids\n",
    "\n",
    "<img src=\"./img/stpete_religious.png\" width=\"1000\" height=\"1000\"/></img>\n",
    "\n",
    "* Lines\n",
    "    * Roads\n",
    "    * Rivers\n",
    "    \n",
    "<img src=\"./img/stpete_roads.png\" width=\"1000\" height=\"1000\"/></img>\n",
    "    \n",
    "* Polygons\n",
    "    * Structural footprints\n",
    "    * Boundaries\n",
    "    \n",
    "<img src=\"./img/stpete_medhhinc.png\" width=\"1000\" height=\"1000\"/></img>"
   ]
  },
  {
   "cell_type": "markdown",
   "metadata": {
    "deletable": true,
    "editable": true
   },
   "source": [
    "> *Show these in QGIS live*"
   ]
  },
  {
   "cell_type": "markdown",
   "metadata": {
    "deletable": true,
    "editable": true
   },
   "source": [
    "#### 2.1.2 Raster Data Model\n",
    "Raster data models are pixel-based representations of continuous surfaces. They are commonly used to model:\n",
    "* Elevation\n",
    "* Imagery (brightness values)\n",
    "* Air quality\n",
    "\n",
    "Many of the operations available to vector data models are not available to raster data models, but we can use raster data to create features at the areal or zonal level using zonal statistics. Here are some examples:\n",
    "* Elevation range within a polygon\n",
    "* Mean vegetation index\n",
    "* Total population"
   ]
  },
  {
   "cell_type": "markdown",
   "metadata": {
    "deletable": true,
    "editable": true
   },
   "source": [
    "#### Alternative Data Models\n",
    "* Network models\n",
    "    * Nodes and edges\n",
    "    * Flow Data\n",
    "    * Friction or speed\n",
    "* Triangulated Irregular Network (TIN)\n",
    "    * Commonly used to model elevation\n",
    "    * Could be used for any raster depiction"
   ]
  },
  {
   "cell_type": "markdown",
   "metadata": {
    "deletable": true,
    "editable": true
   },
   "source": [
    "## 2.2 Geospatial Data Abstraction Library (GDAL) and OGR\n",
    "#### 2.2.1 Overview\n",
    "\n",
    "<img src=\"./img/osgeo.png\" width=\"200\" height=\"300\"/></img>\n",
    "\n",
    "The Geospatial Data Abstraction Library (GDAL) and the OpenGIS Simple Features Library are C/C++ libraries with actively developed bindings to Java, Python, Perl, and C#. OGR is the portion of the GDAL/OGR library that handles vector data and includes:\n",
    "* 84 drivers for database and file-based vector formats\n",
    "* A single vector data model\n",
    "* Command-line utility programs such as `ogr2ogr`\n",
    "\n",
    "GDAL/OGR is the underlying library for handling geospatial data formats in a number of python libraries including `fiona`, `geopandas`, and `pysal`."
   ]
  },
  {
   "cell_type": "markdown",
   "metadata": {
    "deletable": true,
    "editable": true
   },
   "source": [
    "#### 2.2.2 Installation and Packaging\n",
    "OGR, which is what we are interested in for this workshop, is part of the osgeo module and is installed with Anaconda by default. It can also be install via conda using:\n",
    "\n",
    "`conda install gdal`\n",
    "\n",
    "Or via the Python Package Index:\n",
    "\n",
    "`pip install gdal`"
   ]
  },
  {
   "cell_type": "code",
   "execution_count": 7,
   "metadata": {
    "collapsed": false,
    "deletable": true,
    "editable": true
   },
   "outputs": [
    {
     "name": "stdout",
     "output_type": "stream",
     "text": [
      "2010300\n"
     ]
    }
   ],
   "source": [
    "# GDAL and OGR are in the osgeo package\n",
    "from osgeo import ogr, gdal\n",
    "# Check GDAL version\n",
    "print(gdal.VersionInfo('VERSION_NUM'))\n",
    "# Access Help\n",
    "# print(help(ogr))"
   ]
  },
  {
   "cell_type": "markdown",
   "metadata": {
    "deletable": true,
    "editable": true
   },
   "source": [
    "#### 2.2.3 Basic Operations\n",
    "OGR can read, write, and conduct a number of geometric operations on vector geospatial data including:\n",
    "* Creating geometries from scratch or source\n",
    "* Iterating and manipulating geometries\n",
    "* Writing geometries to source"
   ]
  },
  {
   "cell_type": "code",
   "execution_count": 8,
   "metadata": {
    "collapsed": false,
    "deletable": true,
    "editable": true
   },
   "outputs": [
    {
     "name": "stdout",
     "output_type": "stream",
     "text": [
      "POLYGON ((0 0 0,0 10 0,10 10 0,10 0 0))\n"
     ]
    }
   ],
   "source": [
    "# Create a polygon geometry\n",
    "ring = ogr.Geometry(ogr.wkbLinearRing)\n",
    "ring.AddPoint(0.0, 0.0)\n",
    "ring.AddPoint(0.0,10.0)\n",
    "ring.AddPoint(10.0,10.0)\n",
    "ring.AddPoint(10.0,0.0)\n",
    "\n",
    "poly = ogr.Geometry(ogr.wkbPolygon)\n",
    "poly.AddGeometry(ring)\n",
    "print(poly.ExportToWkt())"
   ]
  },
  {
   "cell_type": "code",
   "execution_count": 9,
   "metadata": {
    "collapsed": false,
    "deletable": true,
    "editable": true
   },
   "outputs": [
    {
     "name": "stdout",
     "output_type": "stream",
     "text": [
      "0). POINT (0 0)\n",
      "1). POINT (0 10)\n",
      "2). POINT (10 10)\n",
      "3). POINT (10 0)\n"
     ]
    }
   ],
   "source": [
    "# Iterate over Points in a Polygon\n",
    "for ring in poly:\n",
    "    for point in range(0, ring.GetPointCount()):\n",
    "        # GetPoint returns a tuple not a Geometry\n",
    "        pt = ring.GetPoint(point)\n",
    "        print(\"%i). POINT (%d %d)\" %(point, pt[0], pt[1]))"
   ]
  },
  {
   "cell_type": "code",
   "execution_count": 11,
   "metadata": {
    "collapsed": false,
    "deletable": true,
    "editable": true
   },
   "outputs": [
    {
     "name": "stdout",
     "output_type": "stream",
     "text": [
      "{ \"type\": \"Polygon\", \"coordinates\": [ [ [ 0.0, 0.0, 0.0 ], [ 0.0, 10.0, 0.0 ], [ 10.0, 10.0, 0.0 ], [ 10.0, 0.0, 0.0 ] ] ] }\n"
     ]
    }
   ],
   "source": [
    "# Write a geometry to file\n",
    "geojson = poly.ExportToJson()\n",
    "print(geojson)"
   ]
  },
  {
   "cell_type": "markdown",
   "metadata": {
    "deletable": true,
    "editable": true
   },
   "source": [
    "## 2.3 File-based Formats\n",
    "#### 2.3.1 Environmental Systems Research Institute (ESRI) Shapefiles\n"
   ]
  },
  {
   "cell_type": "markdown",
   "metadata": {
    "collapsed": false,
    "deletable": true,
    "editable": true
   },
   "source": [
    "[Shapefiles](https://www.esri.com/library/whitepapers/pdfs/shapefile.pdf) are arguably the most popular file-based vector geospatial data format. The specification was created by ESRI in the late 1990s as a proprietaty format for storing non-topological vector geometries. Although the format is popular with seasoned GIS Analysts, it has lost favor recently due to a number of limitations including:\n",
    "* 2GB limitation on component files (shapefile consist of a .shp, .shx, and .dbf file as a minimum)\n",
    "* Limited support for unicode characters and `null` values represented as zero\n",
    "* Limited unicode character support\n",
    "\n",
    "Despite these limitations, shapefiles have endured and much of the open geosptial data on the web is in shapefile format. Luckily, GDAL/OGR has maintained\n",
    "a shapefile driver for some time."
   ]
  },
  {
   "cell_type": "code",
   "execution_count": 18,
   "metadata": {
    "collapsed": false,
    "deletable": true,
    "editable": true
   },
   "outputs": [
    {
     "name": "stdout",
     "output_type": "stream",
     "text": [
      "105423\n"
     ]
    }
   ],
   "source": [
    "# Open a shapefile and count the number of features\n",
    "import os\n",
    "shapefile = r\"./data/parcels/stpete_parcels.shp\"\n",
    "driver = ogr.GetDriverByName('ESRI Shapefile')\n",
    "parcels = driver.Open(shapefile, 0)\n",
    "layer = parcels.GetLayer()\n",
    "featureCount = layer.GetFeatureCount()\n",
    "print(featureCount)"
   ]
  },
  {
   "cell_type": "markdown",
   "metadata": {
    "deletable": true,
    "editable": true
   },
   "source": [
    "#### 2.3.2 Geographic Javascript Object Notation (GeoJSON)\n",
    "[GeoJSON](http://geojson.org/geojson-spec.html) is vector geosptial data format created in 2008 to address issues with using traditional geosptial data formats in web mapping applications. GeoJSON is based on the popular JSON and consists of a single file that is human readable.\n",
    "\n",
    "`{\n",
    "  \"type\": \"Feature\",\n",
    "  \"geometry\": {\n",
    "    \"type\": \"Point\",\n",
    "    \"coordinates\": [-82.624, 27.367]\n",
    "  },\n",
    "  \"properties\": {\n",
    "    \"name\": \"Longboat Key\"\n",
    "  }\n",
    "}`\n",
    "\n",
    "Despite the single file format and readability, GeoJSON also suffers from some limitations including:\n",
    "* Inefficient storage (Cal Housing 10x larger on disk v. shapefile)\n",
    "* Also lacks topology (although this was partially solved by TopoJSON)\n",
    "* Not fully supported by all GIS software"
   ]
  },
  {
   "cell_type": "code",
   "execution_count": 19,
   "metadata": {
    "collapsed": false,
    "deletable": true,
    "editable": true
   },
   "outputs": [
    {
     "name": "stdout",
     "output_type": "stream",
     "text": [
      "105423\n"
     ]
    }
   ],
   "source": [
    "# Create OGR geometry from GeoJSON\n",
    "geojson = r\"./data/parcels/stpete_parcels.geojson\"\n",
    "driver = ogr.GetDriverByName('GeoJSON')\n",
    "parcels = driver.Open(geojson, 0)\n",
    "layer = parcels.GetLayer()\n",
    "featureCount = layer.GetFeatureCount()\n",
    "print(featureCount)"
   ]
  },
  {
   "cell_type": "markdown",
   "metadata": {
    "deletable": true,
    "editable": true
   },
   "source": [
    "#### 2.3.3 Keyhole Markup Language (KML)\n",
    "[Keyhole Markup Language](http://www.opengeospatial.org/standards/kml) is an OGC standard format that was originally created by Keyhole Inc. which was acquired by Google and eventually created Google Earth and Google Maps.\n",
    "\n",
    "## Further Reading\n",
    "<img src=\"./img/geopro_with_python.png\" width=\"300\" height=\"300\"/></img>\n",
    "[Geoprocessing with Python](https://www.manning.com/books/geoprocessing-with-python#downloads)\n",
    "* Excellent coverage of OGR/GDAL\n",
    "* Two free sample chapters on reading vector/raster\n",
    "* Wait for discount code on Manning\n",
    "\n",
    "[OGR/GDAL Cookbook](https://pcjericks.github.io/py-gdalogr-cookbook/index.html)\n",
    "* Based on Garrad's university course\n",
    "* Reusable recipes\n",
    "* Python style docs"
   ]
  },
  {
   "cell_type": "markdown",
   "metadata": {
    "deletable": true,
    "editable": true
   },
   "source": [
    "## Using Geopandas to Read Geospatial Data into DataFrames\n",
    "#### [GeoPandas](http://geopandas.org/) is:\n",
    "* All-in-one tool for handling geospatial in Python\n",
    "* Built on top of fiona, shapely, and GDAL/OGR\n",
    "* User pandas-like data structures such GeoDataFrame and GeoSeries"
   ]
  },
  {
   "cell_type": "code",
   "execution_count": 21,
   "metadata": {
    "collapsed": false,
    "deletable": true,
    "editable": true
   },
   "outputs": [
    {
     "data": {
      "text/html": [
       "<div>\n",
       "<table border=\"1\" class=\"dataframe\">\n",
       "  <thead>\n",
       "    <tr style=\"text-align: right;\">\n",
       "      <th></th>\n",
       "      <th>BK</th>\n",
       "      <th>LOT</th>\n",
       "      <th>PARCELID</th>\n",
       "      <th>PARCELID_1</th>\n",
       "      <th>PARCELID_D</th>\n",
       "      <th>PARCELNO</th>\n",
       "      <th>PARCELSUBT</th>\n",
       "      <th>POLY_ID</th>\n",
       "      <th>RG</th>\n",
       "      <th>SB</th>\n",
       "      <th>SC</th>\n",
       "      <th>SHAPE_AREA</th>\n",
       "      <th>SHAPE_LEN</th>\n",
       "      <th>STRAP</th>\n",
       "      <th>TW</th>\n",
       "      <th>geometry</th>\n",
       "    </tr>\n",
       "  </thead>\n",
       "  <tbody>\n",
       "    <tr>\n",
       "      <th>0</th>\n",
       "      <td>000</td>\n",
       "      <td>0430</td>\n",
       "      <td>273116953820000430</td>\n",
       "      <td>27/31/16/95382/000/0430</td>\n",
       "      <td>27-31-16-95382-000-0430</td>\n",
       "      <td>16 31 27 95382 000 0430</td>\n",
       "      <td>0</td>\n",
       "      <td>1</td>\n",
       "      <td>16</td>\n",
       "      <td>95382</td>\n",
       "      <td>27</td>\n",
       "      <td>3999.882294</td>\n",
       "      <td>279.999402</td>\n",
       "      <td>163127953820000430</td>\n",
       "      <td>31</td>\n",
       "      <td>POLYGON ((-82.68981479872396 27.76168992653696...</td>\n",
       "    </tr>\n",
       "    <tr>\n",
       "      <th>1</th>\n",
       "      <td>007</td>\n",
       "      <td>0050</td>\n",
       "      <td>183116446400070050</td>\n",
       "      <td>18/31/16/44640/007/0050</td>\n",
       "      <td>18-31-16-44640-007-0050</td>\n",
       "      <td>16 31 18 44640 007 0050</td>\n",
       "      <td>0</td>\n",
       "      <td>2</td>\n",
       "      <td>16</td>\n",
       "      <td>44640</td>\n",
       "      <td>18</td>\n",
       "      <td>9653.587830</td>\n",
       "      <td>400.197524</td>\n",
       "      <td>163118446400070050</td>\n",
       "      <td>31</td>\n",
       "      <td>POLYGON ((-82.74333504227978 27.78891005735331...</td>\n",
       "    </tr>\n",
       "    <tr>\n",
       "      <th>2</th>\n",
       "      <td>004</td>\n",
       "      <td>0030</td>\n",
       "      <td>203116669780040030</td>\n",
       "      <td>20/31/16/66978/004/0030</td>\n",
       "      <td>20-31-16-66978-004-0030</td>\n",
       "      <td>16 31 20 66978 004 0030</td>\n",
       "      <td>0</td>\n",
       "      <td>3</td>\n",
       "      <td>16</td>\n",
       "      <td>66978</td>\n",
       "      <td>20</td>\n",
       "      <td>6730.503577</td>\n",
       "      <td>359.979371</td>\n",
       "      <td>163120669780040030</td>\n",
       "      <td>31</td>\n",
       "      <td>POLYGON ((-82.72776976867324 27.76983371840464...</td>\n",
       "    </tr>\n",
       "  </tbody>\n",
       "</table>\n",
       "</div>"
      ],
      "text/plain": [
       "    BK   LOT            PARCELID               PARCELID_1  \\\n",
       "0  000  0430  273116953820000430  27/31/16/95382/000/0430   \n",
       "1  007  0050  183116446400070050  18/31/16/44640/007/0050   \n",
       "2  004  0030  203116669780040030  20/31/16/66978/004/0030   \n",
       "\n",
       "                PARCELID_D                 PARCELNO  PARCELSUBT  POLY_ID  RG  \\\n",
       "0  27-31-16-95382-000-0430  16 31 27 95382 000 0430           0        1  16   \n",
       "1  18-31-16-44640-007-0050  16 31 18 44640 007 0050           0        2  16   \n",
       "2  20-31-16-66978-004-0030  16 31 20 66978 004 0030           0        3  16   \n",
       "\n",
       "      SB  SC   SHAPE_AREA   SHAPE_LEN               STRAP  TW  \\\n",
       "0  95382  27  3999.882294  279.999402  163127953820000430  31   \n",
       "1  44640  18  9653.587830  400.197524  163118446400070050  31   \n",
       "2  66978  20  6730.503577  359.979371  163120669780040030  31   \n",
       "\n",
       "                                            geometry  \n",
       "0  POLYGON ((-82.68981479872396 27.76168992653696...  \n",
       "1  POLYGON ((-82.74333504227978 27.78891005735331...  \n",
       "2  POLYGON ((-82.72776976867324 27.76983371840464...  "
      ]
     },
     "execution_count": 21,
     "metadata": {},
     "output_type": "execute_result"
    }
   ],
   "source": [
    "import geopandas as gpd\n",
    "%matplotlib inline\n",
    "# stpete_parcels.shp is 105,423 observations @ 23mb\n",
    "parcels = gpd.read_file(\"./data/parcels/stpete_parcels.shp\")\n",
    "parcels.head(3)"
   ]
  },
  {
   "cell_type": "code",
   "execution_count": null,
   "metadata": {
    "collapsed": false,
    "deletable": true,
    "editable": true
   },
   "outputs": [],
   "source": [
    "parcels.plot()"
   ]
  },
  {
   "cell_type": "markdown",
   "metadata": {
    "deletable": true,
    "editable": true
   },
   "source": [
    "## Reading Geospatial Data Using PySAL"
   ]
  },
  {
   "cell_type": "code",
   "execution_count": 11,
   "metadata": {
    "collapsed": false,
    "deletable": true,
    "editable": true
   },
   "outputs": [
    {
     "data": {
      "text/plain": [
       "105423"
      ]
     },
     "execution_count": 11,
     "metadata": {},
     "output_type": "execute_result"
    }
   ],
   "source": [
    "import pysal\n",
    "parcels = pysal.open('./data/stpete_parcels.shp')\n",
    "len(parcels)"
   ]
  },
  {
   "cell_type": "markdown",
   "metadata": {
    "deletable": true,
    "editable": true
   },
   "source": [
    "## 2.4 Study Area and Motivation\n",
    "#### 2.4.1 Study Area\n",
    "* 257,083 inhabitants (2015 US Census estimate)\n",
    "* Guiness World Record for consecutive sunshine (768 days)\n",
    "* Founded in 1888 and fully urbanized in the 1960s"
   ]
  },
  {
   "cell_type": "markdown",
   "metadata": {},
   "source": [
    "<img src=\"./img/overview_with_inset.png\" width=\"1000\" height=\"1000\"/></img>"
   ]
  },
  {
   "cell_type": "markdown",
   "metadata": {},
   "source": [
    "#### 2.4.2 Problem\n",
    "* Housing Market\n",
    "  * Geographic constraints increase housing demand\n",
    "  * Influx of retirees (sun and taxes)\n",
    "  * Heterogenous housing values\n",
    "* Prediction Potential\n",
    "  * Final sale price of residential homes (regression)\n",
    "  * Anticipate house coming on market (binary classication)\n",
    "* Audience\n",
    "  * Buyers and sellers\n",
    "  * Real estate agents\n",
    "  * Data Scientists"
   ]
  },
  {
   "cell_type": "markdown",
   "metadata": {},
   "source": [
    "2.4.3 Data\n",
    "* Home Sales\n",
    "  * 2015 Residential Home Sales for Pinellas County\n",
    "  * [Pinellas County Property Appraiser](http://www.pcpao.org/)\n",
    "  * Similar organization in other areas of US\n",
    "* Parcel Data\n",
    "  * Residential parcel boundaries for Pinellas County\n",
    "  * [Pinellas County Property Appraiser](http://www.pcpao.org/)\n",
    "  * Most granular administrative area available\n",
    "* Census Data\n",
    "  * American Community Survey 5-year Estimates\n",
    "  * Block group level estimates for 2011-2015\n",
    "  * Available for entire US [here](https://www.census.gov/geo/maps-data/data/tiger-data.html)"
   ]
  }
 ],
 "metadata": {
  "anaconda-cloud": {},
  "kernelspec": {
   "display_name": "Python 3",
   "language": "python",
   "name": "python3"
  },
  "language_info": {
   "codemirror_mode": {
    "name": "ipython",
    "version": 3
   },
   "file_extension": ".py",
   "mimetype": "text/x-python",
   "name": "python",
   "nbconvert_exporter": "python",
   "pygments_lexer": "ipython3",
   "version": "3.5.3"
  }
 },
 "nbformat": 4,
 "nbformat_minor": 1
}
